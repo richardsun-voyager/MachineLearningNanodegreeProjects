{
 "cells": [
  {
   "cell_type": "markdown",
   "metadata": {},
   "source": [
    "For this project, you will be given five technical interviewing questions on a variety of topics discussed in the technical interviewing course. You should write up a clean and efficient answer in Python, as well as a text explanation of the efficiency of your code and your design choices. A qualified reviewer will look over your answer and give you feedback on anything that might be awesome or lacking—is your solution the most efficient one possible? Are you doing a good job of explaning your thoughts? Is your code elegant and easy to read?"
   ]
  },
  {
   "cell_type": "markdown",
   "metadata": {},
   "source": [
    "## Question 1: \n",
    "\n",
    "Given two strings s and t, determine whether some anagram of t is a substring of s. For example: if s = “udacity” and t = “ad”, then the function returns True. Your function definition should look like: “question1(s, t)”, and return a boolean True or False."
   ]
  },
  {
   "cell_type": "code",
   "execution_count": 46,
   "metadata": {
    "collapsed": true
   },
   "outputs": [],
   "source": [
    "def question1(s,t):\n",
    "    #Check the input format\n",
    "    if type(s) is not str or type(t) is not str:\n",
    "        print 'Input Error! Please input strings!'\n",
    "        return False\n",
    "    if len(t)<1:\n",
    "        print 't is null!'\n",
    "        return False\n",
    "    #Create an anagram of t\n",
    "    num = len(t)\n",
    "    if num==1:#Just one sign\n",
    "        return False\n",
    "    elif num>1:\n",
    "        t_anagram = ''\n",
    "        for i in range(num-1):#an anagram pair characters of t\n",
    "            t_anagram = t[-(i+1)] + t[-(i+2)]\n",
    "            if t_anagram in s:# if the pair is a substring then return true\n",
    "                return True\n",
    "    return False   \n",
    "    "
   ]
  },
  {
   "cell_type": "markdown",
   "metadata": {},
   "source": [
    "In this problem, if some anagram of *t* is a substring of *s*, then there will be at least an adjacent pair characters of *t* anagram, the pair characters is a substring of *s*. For example, *s*='udacity', *t* = 'adu', then *t_anagram* = 'uda', and 'uda', 'ud','da' are all substrings of *s*.  And my work is to find out whether there is a such pair like 'ud', we do not need to find out the longest substring. \n",
    "\n",
    "In this function, first I checked the format of the input, then I inversed the orders of the string *t*, and fetched an adjacent pair characters of anagram of *t* each time, then I used Python built-in tool 'in' to check whether the anagram pair of *t* was a substring of *s*, if there existed such a pair, end the loop and return true. I didn't consider empty string or one character string here.\n",
    "\n",
    "The worst case was that no such a pair existed, so the function had to traverse the entire string, the efficiency would be *O(n-1)*. The best case was that the pair existed right in the beginning of the anagram of *t*, the efficienct would be *O(1)*. The average efficiency would be *O(n/2)*. I didn't consider the efficiency of 'in' function of Python."
   ]
  },
  {
   "cell_type": "code",
   "execution_count": 54,
   "metadata": {
    "collapsed": false
   },
   "outputs": [
    {
     "name": "stdout",
     "output_type": "stream",
     "text": [
      "Is some anagram of t a substring of s? True\n",
      "Is some anagram of t a substring of s? False\n"
     ]
    }
   ],
   "source": [
    "#Examples\n",
    "s='udaciy'\n",
    "t='dfrdu'\n",
    "print 'Is some anagram of t a substring of s?', question1(s,t)\n",
    "t='cir'\n",
    "print 'Is some anagram of t a substring of s?', question1(s,t)"
   ]
  },
  {
   "cell_type": "markdown",
   "metadata": {},
   "source": [
    "## Question 2:\n",
    "\n",
    "Given a string a, find the longest palindromic substring contained in a. Your function definition should look like \"question2(a)\", and return a string."
   ]
  },
  {
   "cell_type": "code",
   "execution_count": 50,
   "metadata": {
    "collapsed": false
   },
   "outputs": [],
   "source": [
    "def question2(a):\n",
    "    #Check the input\n",
    "    if type(a) is not str:\n",
    "        print 'Input is not string!'\n",
    "        return None\n",
    "    if len(a)<2:\n",
    "        print 'Input is too short'\n",
    "        return None\n",
    "    #Insert | into the original string,i.e., 'abc'->'|a|b|c|'\n",
    "    A = '|'\n",
    "    for i in range(len(a)):\n",
    "        A += a[i] \n",
    "        A += '|'\n",
    "\n",
    "    P = []#Record length of palindromic for each character as a center\n",
    "    str_list = []#Record palindromic substring for each character as a center\n",
    "    pal_len_max = 0\n",
    "    pal_max = ''\n",
    "    #Traverse each character and check palindromic substring around it\n",
    "    for j in range(len(A)):\n",
    "        P.append(0)\n",
    "        str_list.append('')\n",
    "        if j>0 and j<len(A)-1:\n",
    "            steps = j if j<= len(A)-j-1 else len(A)-j-1# is j bigger than half of the length\n",
    "            P[j] = 1 if j%2>0 else 0 #Suppose it is symmetric around the jth character initially\n",
    "            str_list[j] = A[j] if j%2>0 else '' #record the jth character if not |\n",
    "            for k in range(steps):                \n",
    "                if A[j-k-1] != A[j+k+1]:#if not symmetric, break\n",
    "                    #P[j] = k\n",
    "                    #str_list[j] = A[j-k:j+k+1]\n",
    "                    break\n",
    "                if (j-k-1)%2>0:#skip inserted '|'\n",
    "                    P[j] += 1\n",
    "                    str_list[j] = str_list[j] + A[j-k-1]#add left character\n",
    "                    str_list[j] = A[j+k+1] + str_list[j]#add right character\n",
    "        if P[j]>pal_len_max:#Find the longest palindromic substring\n",
    "            pal_len_max = P[j]\n",
    "            pal_max = str_list[j]\n",
    "    if pal_len_max<2:\n",
    "        print 'No palindromic substring Exists!'\n",
    "        return None\n",
    "    return pal_max"
   ]
  },
  {
   "cell_type": "markdown",
   "metadata": {
    "collapsed": false
   },
   "source": [
    "In this problem, my plan is to treat each character as a center, and traverse its neighbors to check palindromic substrings. But there are two cases of palindromic substring, i.e., Case 1: a = 'udadu', a is symmetric around letter'a'; Case 2: a='uddu', a is symmetric around the center of 'dd'. To handle Case 2, I transformed the original string by inserting a '|' between each adjacent pair of characters, i.e., a='sdshjdssd',a_transform='|s|d|s|h|j|d|s|s|d|'. \n",
    "\n",
    "After transformation, my function traversed each character, and treated each character as a axis, moved left and right at the same time, compared left neighboring characters to right neigboring characters step by step, until two corresponding characters were different, then recorded the length and substring, so I could get the length and palindromic substring for each character as an axis. Meanwhile, I kept a variable to record the longest palindromic substring during the loop.\n",
    "\n",
    "The efficiency of my function was approximate *O(n^2)*."
   ]
  },
  {
   "cell_type": "code",
   "execution_count": 52,
   "metadata": {
    "collapsed": false
   },
   "outputs": [
    {
     "data": {
      "text/plain": [
       "'tabcbat'"
      ]
     },
     "execution_count": 52,
     "metadata": {},
     "output_type": "execute_result"
    }
   ],
   "source": [
    " a='sdffdsghjkdtabcbatfghj'\n",
    "question2(a)"
   ]
  },
  {
   "cell_type": "markdown",
   "metadata": {},
   "source": [
    "## Question 3: \n",
    "\n",
    "Given an undirected graph G, find the minimum spanning tree within G. A minimum spanning tree connects all vertices in a graph with the smallest possible total weight of edges. Your function should take in and return an adjacency list structured like this: {'A':[('B',2)],'B':[('A',2),('C',5)],'C':[('B',5)]}. Vertices are represented as unique strings. The function definition should be \"question3(G)\""
   ]
  },
  {
   "cell_type": "code",
   "execution_count": 53,
   "metadata": {
    "collapsed": true
   },
   "outputs": [],
   "source": [
    "def question3(G):\n",
    "    \n",
    "    \n",
    "    return None"
   ]
  },
  {
   "cell_type": "markdown",
   "metadata": {},
   "source": [
    "## Question 4: \n",
    "\n",
    "Find the least common ancestor between two nodes on a binary search tree. The least common ancestor is the farthest node from the root that is an ancestor of both nodes. For example, the root is a common ancestor of all nodes on the tree, but if both nodes are descendents of the root's left child, then that left child might be the lowest common ancestor. You can assume that both nodes are in the tree, and the tree itself adheres to all BST properties. The function definition should look like \"question4(T, r, n1, n2)\", where T is the tree represented as a matrix, where the index of the list is equal to the integer stored in that node and a 1 represents a child node, r is a non-negative integer representing the root, and n1 and n2 are non-negative integers representing the two nodes in no particular order. For example, one test case might be question4([[0,1,0,0,0],[0,0,0,0,0],[0,0,0,0,0],[1,0,0,0,1],[0,0,0,0,0]],3,1,4), and the answer would be 3."
   ]
  },
  {
   "cell_type": "markdown",
   "metadata": {},
   "source": [
    "## Question 5: \n",
    "\n",
    "Find the element in a singly linked list that's m elements from the end. For example, if a linked list has 5 elements, the 3rd element from the end is the 3rd element. The function definition should look like \"question5(ll, m)\", where ll is the first node of a linked list and m is the \"mth number from the end\". You should copy/paste the Node class below to use as a representation of a node in the linked list. Return the value of the node at that position.\n",
    "\n",
    "class Node(object):\n",
    "\n",
    "  def __init__(self, data):\n",
    "  \n",
    "    self.data = data    \n",
    "    self.next = None"
   ]
  },
  {
   "cell_type": "code",
   "execution_count": null,
   "metadata": {
    "collapsed": true
   },
   "outputs": [],
   "source": []
  }
 ],
 "metadata": {
  "kernelspec": {
   "display_name": "Python 2",
   "language": "python",
   "name": "python2"
  },
  "language_info": {
   "codemirror_mode": {
    "name": "ipython",
    "version": 2
   },
   "file_extension": ".py",
   "mimetype": "text/x-python",
   "name": "python",
   "nbconvert_exporter": "python",
   "pygments_lexer": "ipython2",
   "version": "2.7.9"
  }
 },
 "nbformat": 4,
 "nbformat_minor": 0
}
