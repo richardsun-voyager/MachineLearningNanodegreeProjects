{
 "cells": [
  {
   "cell_type": "markdown",
   "metadata": {},
   "source": [
    "For this project, you will be given five technical interviewing questions on a variety of topics discussed in the technical interviewing course. You should write up a clean and efficient answer in Python, as well as a text explanation of the efficiency of your code and your design choices. A qualified reviewer will look over your answer and give you feedback on anything that might be awesome or lacking—is your solution the most efficient one possible? Are you doing a good job of explaning your thoughts? Is your code elegant and easy to read?"
   ]
  },
  {
   "cell_type": "markdown",
   "metadata": {},
   "source": [
    "## Question 1: \n",
    "\n",
    "Given two strings s and t, determine whether some anagram of t is a substring of s. For example: if s = “udacity” and t = “ad”, then the function returns True. Your function definition should look like: “question1(s, t)”, and return a boolean True or False."
   ]
  },
  {
   "cell_type": "code",
   "execution_count": 12,
   "metadata": {
    "collapsed": false
   },
   "outputs": [],
   "source": [
    "#Map a string into a Hashmap dictionary\n",
    "def stringDict(s):\n",
    "    s_dict = {}\n",
    "    if s is not None:\n",
    "        for l in s:\n",
    "            s_dict[l] = s_dict.get(l,0) + 1            \n",
    "    return s_dict\n",
    "            \n",
    "\n",
    "def question1(s,t):\n",
    "    #Check the input format\n",
    "    if type(s) is not str or type(t) is not str:\n",
    "        print 'Input Error! '\n",
    "        return False\n",
    "    if len(t) < 1:\n",
    "        print 't is empty!'\n",
    "        return False\n",
    "    #Create variables\n",
    "    t_len = len(t)\n",
    "    s_len = len(s)\n",
    "    t_dict = stringDict(t)\n",
    "    s_dict = {}\n",
    "    if t_len > s_len:#if t is longer\n",
    "        print '\"t\" is longer than \"s\"!'\n",
    "        return False\n",
    "    else:\n",
    "        #Fetch substring of t length\n",
    "        for i in range(s_len-t_len):\n",
    "            s_part = s[i:(i+t_len)]\n",
    "            s_dict = stringDict(s_part)\n",
    "            if s_dict == t_dict:# if the pair is a substring then return true\n",
    "                return True\n",
    "    return False   \n",
    "    "
   ]
  },
  {
   "cell_type": "markdown",
   "metadata": {},
   "source": [
    "In this problem, I planned to transfer strings into hash table, and compare whether the characters and frequencies were identical. First I got the character dictionary of string 't', then I traversed substrings of 's' step by step, which had the same length as 't'. I mapped the substring of 's' into dictionary and compared it to that of 't', if identical, then return true.\n",
    "\n",
    "Suppose, 't' has *nt* characters, 's' has *ns* characters. The worst case was that no such anagram existed, so the function had to traverse the entire string, the complexity would be *O((ns-nt+1)nt)*. The best case was that the substring existed right in the begining of s, the complexity would be *O(2nt)*. The average complexity would be *O((ns-nt+3)nt/2)*. The space complexity was *O(2nt)*, namely the length of two dictionaries."
   ]
  },
  {
   "cell_type": "code",
   "execution_count": 17,
   "metadata": {
    "collapsed": false
   },
   "outputs": [
    {
     "name": "stdout",
     "output_type": "stream",
     "text": [
      "Some anagram of t is a substring of s. True\n",
      "Some anagram of t is a substring of s. t is empty!\n",
      "False\n",
      "Some anagram of t is a substring of s. \"t\" is longer than \"s\"!\n",
      "False\n"
     ]
    }
   ],
   "source": [
    "#Examples\n",
    "s='udacity'\n",
    "t='ad'\n",
    "print 'Some anagram of t is a substring of s.', question1(s,t)\n",
    "t=''\n",
    "print 'Some anagram of t is a substring of s.', question1(s,t)\n",
    "t='yirabcdefghikjlmnopqrstuvwwwwxyssssssssytz'\n",
    "print 'Some anagram of t is a substring of s.', question1(s,t)"
   ]
  },
  {
   "cell_type": "markdown",
   "metadata": {},
   "source": [
    "## Question 2:\n",
    "\n",
    "Given a string a, find the longest palindromic substring contained in a. Your function definition should look like \"question2(a)\", and return a string."
   ]
  },
  {
   "cell_type": "code",
   "execution_count": 19,
   "metadata": {
    "collapsed": false
   },
   "outputs": [],
   "source": [
    "def question2(a):\n",
    "    #Check the input\n",
    "    if type(a) is not str:\n",
    "        print 'Input is not string!'\n",
    "        return None\n",
    "    if len(a) < 2:\n",
    "        return a\n",
    "    #Insert | into the original string,i.e., 'abc'->'|a|b|c|'\n",
    "    A = '|'\n",
    "    for i in range(len(a)):\n",
    "        A += a[i] \n",
    "        A += '|'\n",
    "\n",
    "    P = []#Record length of palindromic for each character as a center\n",
    "    str_list = []#Record palindromic substring for each character as a center\n",
    "    pal_len_max = 0\n",
    "    pal_max = ''\n",
    "    #Traverse each character and check palindromic substring around it\n",
    "    for j in range(len(A)):\n",
    "        P.append(0)\n",
    "        str_list.append('')\n",
    "        if j > 0 and j < len(A)-1:\n",
    "            steps = j if j<= len(A)-j-1 else len(A)-j-1# is j bigger than half of the length\n",
    "            P[j] = 1 if j%2>0 else 0 #Suppose it is symmetric around the jth character initially\n",
    "            str_list[j] = A[j] if j%2>0 else '' #record the jth character if not '|'\n",
    "            for k in range(steps):                \n",
    "                if A[j-k-1] != A[j+k+1]:#if not symmetric, break\n",
    "                    #P[j] = k\n",
    "                    #str_list[j] = A[j-k:j+k+1]\n",
    "                    break\n",
    "                if (j-k-1)%2 > 0:#skip inserted '|'\n",
    "                    P[j] += 1\n",
    "                    str_list[j] = str_list[j] + A[j-k-1]#add left character\n",
    "                    str_list[j] = A[j+k+1] + str_list[j]#add right character\n",
    "        if P[j] > pal_len_max:#Find the longest palindromic substring\n",
    "            pal_len_max = P[j]\n",
    "            pal_max = str_list[j]\n",
    "    #if pal_len_max < 2:\n",
    "        #print 'No palindromic substring Exists!'\n",
    "        #return None\n",
    "    return pal_max"
   ]
  },
  {
   "cell_type": "markdown",
   "metadata": {
    "collapsed": false
   },
   "source": [
    "In this problem, my plan is to treat each character as a center, and traverse its neighbors to check palindromic substrings. But there are two cases of palindromic substring, i.e., Case 1: a = 'udadu', a is symmetric around letter'a'; Case 2: a='uddu', a is symmetric around the center of 'dd'. To handle Case 2, I transformed the original string by inserting a '|' between each adjacent pair of characters, i.e., a='sdshjdssd',a_transform='|s|d|s|h|j|d|s|s|d|'. \n",
    "\n",
    "After transformation, my function traversed each character, and treated each character as a axis, moved left and right at the same time, compared left neighboring characters to right neigboring characters step by step, until two corresponding characters were different, then recorded the length and substring, so I could get the length and palindromic substring for each character as an axis. Meanwhile, I kept a variable to record the longest palindromic substring during the loop.\n",
    "\n",
    "The significant part lies in the loops of traversing each character. Suppose the length of original string is *n*, then the transformed string length is *2n+1*, the length of step ranges from 1 to n. In the worst case, for example all the characters are identical, then the algorithm has to traverse all numbers within step, the complexity of my function was *O(2(1+2+...+n))=O(n^2+n)*. And the best case is that none of the characters are identical, so the complexity should be *O(2n-1)*. The average complexity should be *O((n^2+3n-1)/2)*. As for the space complexity, there would be a list of n integers, and a list of n palindromic substrings, the total space complexity would be *O(2n)*."
   ]
  },
  {
   "cell_type": "code",
   "execution_count": 22,
   "metadata": {
    "collapsed": false
   },
   "outputs": [
    {
     "name": "stdout",
     "output_type": "stream",
     "text": [
      "The longest palindromic substring contained in a: 12345678kkkkkkkk87654321\n",
      "The longest palindromic substring contained in a: sssaaasss\n",
      "The longest palindromic substring contained in a: s\n"
     ]
    }
   ],
   "source": [
    "#Examples\n",
    "a = 'sdffdsghfgdhsjddhgfjdllal12345678kkkkkkkk87654321slorius      h3546583929867346w2fghjkl 45#652562<>!@#$%~,.;jkdtabcbatfghjjhgftab'\n",
    "print 'The longest palindromic substring contained in a:', question2(a)\n",
    "a = 'sssaaassssstt6789sd'\n",
    "print 'The longest palindromic substring contained in a:', question2(a)\n",
    "a = 'sa'\n",
    "print 'The longest palindromic substring contained in a:', question2(a)"
   ]
  },
  {
   "cell_type": "markdown",
   "metadata": {},
   "source": [
    "## Question 3: \n",
    "\n",
    "Given an undirected graph G, find the minimum spanning tree within G. A minimum spanning tree connects all vertices in a graph with the smallest possible total weight of edges. Your function should take in and return an adjacency list structured like this: {'A':[('B',2)],'B':[('A',2),('C',5)],'C':[('B',5)]}. Vertices are represented as unique strings. The function definition should be \"question3(G)\""
   ]
  },
  {
   "cell_type": "code",
   "execution_count": 24,
   "metadata": {
    "collapsed": true
   },
   "outputs": [],
   "source": [
    "def question3(G):\n",
    "    #Check the input\n",
    "    if G == None or type(G) is not dict:\n",
    "        print 'Input is wrong!'\n",
    "        return None\n",
    "    if len(G) == 0:\n",
    "        print 'Empty input!'\n",
    "        return None\n",
    "    #Get all the vertices\n",
    "    vertices = G.keys()\n",
    "    vertices_num = len(vertices)\n",
    "    #Use Prim Tree\n",
    "    vertices_prim = []\n",
    "    tree_prim = dict()\n",
    "    weights_prim = 0\n",
    "    #Select the first vertex randomly\n",
    "    current_vertex = vertices[0]\n",
    "    next_vertex = None\n",
    "    vertices_prim.append(current_vertex)\n",
    "    #Find the nearest neighbor during each iteration\n",
    "    while len(vertices_prim) < vertices_num:\n",
    "        edge_weight = float('inf')\n",
    "        for vertex in vertices_prim:\n",
    "            edges  = G[vertex]\n",
    "            #Traverse each possible edges\n",
    "            for edge in edges:\n",
    "                if edge[1] < edge_weight:\n",
    "                    edge_weight = edge[1]\n",
    "                    current_vertex = vertex\n",
    "                    next_vertex = edge[0]\n",
    "        #Remove selected edge from the original adjacent list\n",
    "        G[current_vertex].remove((next_vertex,edge_weight))\n",
    "        G[next_vertex].remove((current_vertex,edge_weight))\n",
    "        #Add edges to the growing prim tree\n",
    "        if current_vertex in tree_prim:\n",
    "            tree_prim[current_vertex].append((next_vertex,edge_weight))\n",
    "        else:\n",
    "            tree_prim[current_vertex] = [(next_vertex,edge_weight)]\n",
    "        if next_vertex in tree_prim:\n",
    "            tree_prim[next_vertex].append((current_vertex,edge_weight))\n",
    "        else:\n",
    "            tree_prim[next_vertex] = [(current_vertex,edge_weight)]  \n",
    "        #Add the closest neighbor\n",
    "        vertices_prim.append(next_vertex)\n",
    "        weights_prim += edge_weight\n",
    "    \n",
    "    return tree_prim"
   ]
  },
  {
   "cell_type": "code",
   "execution_count": 25,
   "metadata": {
    "collapsed": false
   },
   "outputs": [
    {
     "name": "stdout",
     "output_type": "stream",
     "text": [
      "{'n74': [('n0', 1), ('n89', 2), ('n80', 3), ('n86', 3)], 'n75': [('n86', 3), ('n5', 1), ('n87', 1), ('n97', 1)], 'n10': [('n89', 2), ('n69', 3)], 'n77': [('n86', 2), ('n96', 4)], 'n16': [('n67', 1), ('n79', 1), ('n22', 2), ('n82', 2), ('n44', 4)], 'n71': [('n34', 3), ('n70', 3)], 'n72': [('n69', 4), ('n24', 1), ('n34', 1), ('n68', 2), ('n60', 4)], 'n73': [('n96', 2), ('n76', 3)], 'n56': [('n47', 3), ('n37', 3)], 'n54': [('n97', 3), ('n23', 4)], 'n19': [('n80', 1), ('n48', 2)], 'n78': [('n95', 3), ('n82', 5)], 'n79': [('n16', 1), ('n39', 2), ('n89', 4), ('n59', 4)], 'n50': [('n82', 3), ('n31', 3)], 'n51': [('n36', 2), ('n11', 1), ('n84', 3), ('n42', 4)], 'n38': [('n81', 3), ('n95', 3), ('n0', 4), ('n48', 4), ('n30', 5)], 'n39': [('n79', 2), ('n23', 4)], 'n11': [('n51', 1), ('n14', 4)], 'n32': [('n84', 4)], 'n30': [('n35', 2), ('n55', 4), ('n38', 5)], 'n31': [('n50', 3), ('n59', 4)], 'n66': [('n94', 4)], 'n33': [('n47', 1), ('n59', 3), ('n61', 3), ('n91', 4)], 'n34': [('n72', 1), ('n28', 1), ('n71', 3), ('n93', 4)], 'n35': [('n52', 4), ('n30', 2)], 'n36': [('n94', 3), ('n51', 2), ('n29', 4)], 'n37': [('n56', 3), ('n64', 4)], 'n49': [('n9', 3)], 'n98': [('n29', 1)], 'n99': [('n89', 2), ('n40', 4)], 'n14': [('n11', 4), ('n84', 4)], 'n92': [('n80', 2), ('n52', 3)], 'n93': [('n34', 4)], 'n90': [('n94', 4), ('n44', 1)], 'n91': [('n76', 1), ('n33', 4)], 'n96': [('n77', 4), ('n73', 2), ('n22', 4)], 'n97': [('n75', 1), ('n54', 3)], 'n94': [('n5', 1), ('n67', 2), ('n36', 3), ('n66', 4), ('n90', 4)], 'n95': [('n38', 3), ('n78', 3)], 'n45': [('n63', 4)], 'n40': [('n82', 2), ('n99', 4)], 'n18': [('n29', 1)], 'n67': [('n94', 2), ('n16', 1)], 'n48': [('n19', 2), ('n38', 4)], 'n55': [('n29', 1), ('n30', 4)], 'n63': [('n22', 3), ('n20', 3), ('n45', 4), ('n64', 4)], 'n61': [('n33', 3), ('n23', 4)], 'n60': [('n72', 4), ('n88', 2)], 'n41': [('n25', 4)], 'n52': [('n92', 3), ('n35', 4)], 'n76': [('n73', 3), ('n91', 1)], 'n42': [('n59', 3), ('n43', 3), ('n51', 4)], 'n43': [('n42', 3)], 'n44': [('n90', 1), ('n16', 4), ('n46', 4)], 'n69': [('n10', 3), ('n72', 4)], 'n68': [('n72', 2)], 'n29': [('n81', 4), ('n18', 1), ('n55', 1), ('n98', 1), ('n36', 4)], 'n28': [('n34', 1)], 'n47': [('n5', 4), ('n33', 1), ('n56', 3)], 'n64': [('n24', 2), ('n63', 4), ('n37', 4)], 'n23': [('n39', 4), ('n54', 4), ('n61', 4)], 'n22': [('n16', 2), ('n63', 3), ('n96', 4)], 'n20': [('n63', 3)], 'n25': [('n2', 2), ('n41', 4)], 'n24': [('n72', 1), ('n64', 2)], 'n84': [('n51', 3), ('n14', 4), ('n32', 4)], 'n87': [('n75', 1)], 'n86': [('n74', 3), ('n77', 2), ('n75', 3)], 'n81': [('n38', 3), ('n29', 4)], 'n80': [('n0', 2), ('n19', 1), ('n92', 2), ('n74', 3)], 'n82': [('n16', 2), ('n40', 2), ('n50', 3), ('n78', 5)], 'n70': [('n71', 3)], 'n12': [('n9', 3)], 'n89': [('n74', 2), ('n10', 2), ('n99', 2), ('n2', 4), ('n79', 4)], 'n88': [('n60', 2)], 'n9': [('n59', 3), ('n12', 3), ('n49', 3)], 'n59': [('n33', 3), ('n9', 3), ('n42', 3), ('n79', 4), ('n31', 4)], 'n46': [('n44', 4)], 'n0': [('n38', 4), ('n74', 1), ('n80', 2)], 'n2': [('n89', 4), ('n25', 2)], 'n5': [('n75', 1), ('n94', 1), ('n47', 4)]}\n",
      "{'A': [('B', 2)], 'C': [('B', 5), ('D', 3)], 'B': [('A', 2), ('C', 5)], 'D': [('C', 3)]}\n"
     ]
    }
   ],
   "source": [
    "#Generate a large undirected graph\n",
    "import numpy as np\n",
    "np.random.seed(100)\n",
    "num = 100\n",
    "G_matrix = np.zeros([num, num])\n",
    "G = {}\n",
    "#Assign random weights to the edges\n",
    "for i in range(num-1):\n",
    "    for j in range(i+1, num):\n",
    "        if np.random.uniform() > 0.5:\n",
    "            weight = np.random.random_integers(num)\n",
    "            G_matrix[i, j] = weight\n",
    "            G_matrix[j, i] = weight\n",
    "            current_vertex = 'n' + str(i)\n",
    "            next_vertex = 'n' + str(j)\n",
    "            #Build an adjacent list\n",
    "            if current_vertex in G:\n",
    "                G[current_vertex].append((next_vertex,weight))\n",
    "            else:\n",
    "                G[current_vertex] = [(next_vertex,weight)]\n",
    "            if next_vertex in G:\n",
    "                G[next_vertex].append((current_vertex,weight))\n",
    "            else:\n",
    "                G[next_vertex] = [(current_vertex,weight)]  \n",
    "print question3(G)\n",
    "G = {'A':[('B',2),('C',10)],'B':[('A',2),('C',5),('D',10)],'C':[('A',10),('B',5),('D',3)],'D':[('B',10),('C',3)]}\n",
    "print question3(G)"
   ]
  },
  {
   "cell_type": "markdown",
   "metadata": {},
   "source": [
    "I have read some materials about the minimum spanning tree, there are two common algorithms, and I used one of them, Prim-Tree. First I selected a vertex randomly, stored it in a list, then I selected a closest neighboring vertex, stored it in the list. Next I selected a vertex closest to the previous slected ones, store it in the list. I repeated it again and again until all the vertices were selected.\n",
    "\n",
    "From the beginning, I created a Prim tree. When I selected a vertex, I would add the vertex and corresponding edge to the Prim Tree. Meanwhile I would remove the corresponding edge from the original tree to reduce traverse times in the future.\n",
    "\n",
    "The part within 'while' and 'for' loops are significant for efficiency. Suppose there are *V* vertices and *E* edges, so each vertex has average *2E/V* edges, and there are *V(V+1)/2* iterations for all the vertices, and during each iteration, two edges will be removed, so the average efficiency would be *E(V+1)-2(V-1)*. As for the space complexity, there were a list of *V* vertices, and a dictionary of *2E* edges, so the total would be *O(2E+V)*."
   ]
  },
  {
   "cell_type": "markdown",
   "metadata": {},
   "source": [
    "## Question 4: \n",
    "\n",
    "Find the least common ancestor between two nodes on a binary search tree. The least common ancestor is the farthest node from the root that is an ancestor of both nodes. For example, the root is a common ancestor of all nodes on the tree, but if both nodes are descendents of the root's left child, then that left child might be the lowest common ancestor. You can assume that both nodes are in the tree, and the tree itself adheres to all BST properties. The function definition should look like \"question4(T, r, n1, n2)\", where T is the tree represented as a matrix, where the index of the list is equal to the integer stored in that node and a 1 represents a child node, r is a non-negative integer representing the root, and n1 and n2 are non-negative integers representing the two nodes in no particular order. For example, one test case might be question4([[0,1,0,0,0],[0,0,0,0,0],[0,0,0,0,0],[1,0,0,0,1],[0,0,0,0,0]],3,1,4), and the answer would be 3."
   ]
  },
  {
   "cell_type": "code",
   "execution_count": 16,
   "metadata": {
    "collapsed": false
   },
   "outputs": [],
   "source": [
    "def question4(T,r,n1,n2):\n",
    "    #Check the input\n",
    "    if T is None or type(r) is not \\\n",
    "    int or type(n1) is not int or type(n2) is not int:\n",
    "        print 'Invalid input!'\n",
    "        return None\n",
    "    if len(T) == 0:\n",
    "        print 'Empty Tree!'\n",
    "        return None\n",
    "    \n",
    "    node_num = len(T)#number of nodes(including leaves)\n",
    "    ancestor1_nodes = [n1]#List of ancestors of the first node, including itself\n",
    "    ancestor2_nodes = [n2]#List of ancestors of the first node, including itself\n",
    "    node1 = n1\n",
    "    node2 = n2\n",
    "    #Find ancestors of the first node\n",
    "    while node1 != r:\n",
    "        for i in range(node_num):\n",
    "            if T[i][node1] > 0:#if node1's parent is node i\n",
    "                ancestor1_nodes.append(i)\n",
    "                node1 = i\n",
    "                break\n",
    "    #Find ancestors of the second node            \n",
    "    while node2 != r:\n",
    "        for i in range(node_num):\n",
    "            if T[i][node2] > 0:#if node1's parent is node i\n",
    "                ancestor2_nodes.append(i)\n",
    "                node2 = i\n",
    "                break\n",
    "        #if this is also ancestor of the first node, return\n",
    "        if node2 in ancestor1_nodes:\n",
    "            return node2\n",
    "    \n",
    "    return ancestor1_nodes, ancestor2_nodes"
   ]
  },
  {
   "cell_type": "code",
   "execution_count": 27,
   "metadata": {
    "collapsed": false
   },
   "outputs": [
    {
     "name": "stdout",
     "output_type": "stream",
     "text": [
      "1\n",
      "0\n"
     ]
    }
   ],
   "source": [
    "#Generate a complete binary tree with given level\n",
    "import numpy as np\n",
    "level = 4\n",
    "nodes_num = 2**level - 1\n",
    "T = np.zeros([nodes_num, nodes_num])\n",
    "for l in range(level-1):\n",
    "    end_node = 2**(l+1) - 2\n",
    "    start_node = 2**(l+1) - 2**l - 1\n",
    "    #Find children for each father node\n",
    "    for i in range(start_node, end_node+1):\n",
    "        T[i,2*i+1] = 1\n",
    "        T[i,2*i+2] = 1\n",
    "    \n",
    "print question4(T, 0, 8, 9)\n",
    "T = [[0, 1, 1, 0, 0],[0, 0, 0, 0, 0],[0, 0, 0, 0, 0],[1, 0, 0, 0, 1],[0, 0, 0, 0, 0]]\n",
    "print question4(T, 3, 0, 1)"
   ]
  },
  {
   "cell_type": "markdown",
   "metadata": {
    "collapsed": true
   },
   "source": [
    "In my algorithm, I first obtained ancestor nodes of the first given node from down to top until the root, stored them in a list. Then, I traversed ancestor nodes of the second node from down to top one by one, checking whether the ancestor node was also an ancestor of the first node, if so, return the ancestor node. The efficiency were related to the depth of the nodes.\n",
    "\n",
    "The parts within two 'while' loops are important in terms of efficiency.  As in a binary tree, the worst case was that the except the root, all the nodes only had at most 1 child, so the n1 node had a depth of *n1* on the left branch, and n2 node had a depth of *n2* on the right branch, there would be *O(n1+n2+2)*. The best case was that the tree was a complete binray tree, the depth of n1 was about *log2(n1+1)*, suppose n2 was a sibling of n1, and the time complexity would be *O(log2(n1+1)+2)*. The average complexity would be *O((n1+n2+log2(n1+1)+4)/2)*. As for the space comnplextity, it was the same as time complexity."
   ]
  },
  {
   "cell_type": "markdown",
   "metadata": {},
   "source": [
    "## Question 5: \n",
    "\n",
    "Find the element in a singly linked list that's m elements from the end. For example, if a linked list has 5 elements, the 3rd element from the end is the 3rd element. The function definition should look like \"question5(ll, m)\", where ll is the first node of a linked list and m is the \"mth number from the end\". You should copy/paste the Node class below to use as a representation of a node in the linked list. Return the value of the node at that position.\n",
    "\n",
    "class Node(object):\n",
    "  \n",
    "    def __init__(self, data):\n",
    "  \n",
    "      self.data = data    \n",
    "      self.next = None"
   ]
  },
  {
   "cell_type": "code",
   "execution_count": 28,
   "metadata": {
    "collapsed": false
   },
   "outputs": [
    {
     "name": "stdout",
     "output_type": "stream",
     "text": [
      "\n"
     ]
    }
   ],
   "source": [
    "#Node class\n",
    "class Node(object):\n",
    "    def __init__(self, data):\n",
    "        self.data = data    \n",
    "        self.next = None\n",
    "\n",
    "#Create a linked list based on node class\n",
    "def CreateList(num = 8):\n",
    "    node = Node(0)\n",
    "    node.next = Node(1)\n",
    "    temp = node\n",
    "    print temp.data\n",
    "    for i in range(num-1):        \n",
    "        temp = temp.next\n",
    "        temp.next = Node(i+2)\n",
    "        print temp.data\n",
    "    print temp.next.data\n",
    "    return node\n",
    "        \n",
    "#Find mth number from the end\n",
    "def question5(ll,m):\n",
    "    #Check the input\n",
    "    if ll == None or type(m) is not int:\n",
    "        print 'Invalid input!'\n",
    "        return None\n",
    "    \n",
    "    #Create two nodes\n",
    "    nodes_num = 0\n",
    "    interval = 0\n",
    "    node1 = ll\n",
    "    node2 = ll\n",
    "    #One node is m steps in advance\n",
    "    while interval < m:\n",
    "        node2 = node2.next\n",
    "        interval += 1\n",
    "        if node2 is None:\n",
    "            print '\"m\" exceeds the length of the list!'\n",
    "            return None\n",
    "    #Move forward two nodes at the same pace\n",
    "    while node2 is not None:\n",
    "        node2 = node2.next\n",
    "        node1 = node1.next\n",
    "    \n",
    "    return  node1.data"
   ]
  },
  {
   "cell_type": "code",
   "execution_count": 29,
   "metadata": {
    "collapsed": false
   },
   "outputs": [
    {
     "name": "stdout",
     "output_type": "stream",
     "text": [
      "0\n",
      "1\n",
      "2\n",
      "3\n",
      "4\n",
      "5\n",
      "6\n",
      "7\n",
      "8\n",
      "9\n",
      "10\n",
      "11\n",
      "12\n",
      "13\n",
      "14\n",
      "15\n",
      "16\n",
      "17\n",
      "18\n",
      "19\n",
      "20\n",
      "The 4th element from the end: Invalid input!\n",
      "None\n"
     ]
    }
   ],
   "source": [
    "#Example\n",
    "ll = CreateList(20)\n",
    "ll = None\n",
    "print 'The 4th element from the end:', question5(ll, 25)"
   ]
  },
  {
   "cell_type": "markdown",
   "metadata": {},
   "source": [
    "In this problem, I created two nodes who started from  the first node of the given linked list. Then I set the second node was m steps in advance, and traversed each node to its next one at the same pace. If the second node reached end, the first node would point to the mth node from the end. The efficiency of this algorithm is *O(n)*. The significant part lies in 'while' loops. The space complexity would be *O(2)*."
   ]
  },
  {
   "cell_type": "code",
   "execution_count": null,
   "metadata": {
    "collapsed": true
   },
   "outputs": [],
   "source": []
  }
 ],
 "metadata": {
  "kernelspec": {
   "display_name": "Python 2",
   "language": "python",
   "name": "python2"
  },
  "language_info": {
   "codemirror_mode": {
    "name": "ipython",
    "version": 2
   },
   "file_extension": ".py",
   "mimetype": "text/x-python",
   "name": "python",
   "nbconvert_exporter": "python",
   "pygments_lexer": "ipython2",
   "version": "2.7.10"
  }
 },
 "nbformat": 4,
 "nbformat_minor": 0
}
