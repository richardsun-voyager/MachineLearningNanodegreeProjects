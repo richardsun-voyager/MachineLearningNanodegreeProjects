{
 "cells": [
  {
   "cell_type": "markdown",
   "metadata": {},
   "source": [
    "For this project, you will be given five technical interviewing questions on a variety of topics discussed in the technical interviewing course. You should write up a clean and efficient answer in Python, as well as a text explanation of the efficiency of your code and your design choices. A qualified reviewer will look over your answer and give you feedback on anything that might be awesome or lacking—is your solution the most efficient one possible? Are you doing a good job of explaning your thoughts? Is your code elegant and easy to read?"
   ]
  },
  {
   "cell_type": "markdown",
   "metadata": {},
   "source": [
    "## Question 1: \n",
    "\n",
    "Given two strings s and t, determine whether some anagram of t is a substring of s. For example: if s = “udacity” and t = “ad”, then the function returns True. Your function definition should look like: “question1(s, t)”, and return a boolean True or False."
   ]
  },
  {
   "cell_type": "code",
   "execution_count": 20,
   "metadata": {
    "collapsed": false
   },
   "outputs": [
    {
     "name": "stdout",
     "output_type": "stream",
     "text": [
      "\n"
     ]
    }
   ],
   "source": [
    "def question1(s,t):\n",
    "    #Check the input format\n",
    "    if type(s) is not str or type(t) is not str:\n",
    "        print 'Input Error! Please input strings!'\n",
    "        return False\n",
    "    if len(t)<1:\n",
    "        print 't is null!'\n",
    "        return False\n",
    "    #Create an anagram of t\n",
    "    num = len(t)\n",
    "    if num==1:#if there's only one character\n",
    "        return False\n",
    "    elif num>1:\n",
    "        t_anagram = ''\n",
    "        for i in range(num-1):#an anagram pair characters of t\n",
    "            t_anagram = t[-(i+1)] + t[-(i+2)]\n",
    "            if t_anagram in s:# if the pair is a substring then return true\n",
    "                return True\n",
    "    return False   \n",
    "    "
   ]
  },
  {
   "cell_type": "markdown",
   "metadata": {},
   "source": [
    "In this problem, if some anagram of *t* is a substring of *s*, then there will be at least an adjacent pair characters of *t* anagram, the pair characters is a substring of *s*. For example, *s*='udacity', *t* = 'adu', then *t_anagram* = 'uda', and 'uda', 'ud','da' are all substrings of *s*.  And my work is to find out whether there is a such pair like 'ud', we do not need to find out the longest substring. \n",
    "\n",
    "In this function, first I checked the format of the input, then I inversed the orders of the string *t*, and fetched an adjacent pair characters of anagram of *t* each time, then I used Python built-in tool 'in' to check whether the anagram pair of *t* was a substring of *s*, if there existed such a pair, end the loop and return true. I didn't consider empty string or one character string here.\n",
    "\n",
    "The worst case was that no such a pair existed, so the function had to traverse the entire string, the efficiency would be *O(n-1)*. The best case was that the pair existed right in the beginning of the anagram of *t*, the efficienct would be *O(1)*. The average efficiency would be *O(n/2)*. I didn't consider the efficiency of 'in' function of Python."
   ]
  },
  {
   "cell_type": "code",
   "execution_count": 23,
   "metadata": {
    "collapsed": false
   },
   "outputs": [
    {
     "name": "stdout",
     "output_type": "stream",
     "text": [
      "Some anagram of t is a substring of s. True\n",
      "Some anagram of t is a substring of s. False\n",
      "Some anagram of t is a substring of s. True\n"
     ]
    }
   ],
   "source": [
    "#Examples\n",
    "s='udaciy'\n",
    "t='dfrdu'\n",
    "print 'Some anagram of t is a substring of s.', question1(s,t)\n",
    "t='cir'\n",
    "print 'Some anagram of t is a substring of s.', question1(s,t)\n",
    "t='yir'\n",
    "print 'Some anagram of t is a substring of s.', question1(s,t)"
   ]
  },
  {
   "cell_type": "markdown",
   "metadata": {},
   "source": [
    "## Question 2:\n",
    "\n",
    "Given a string a, find the longest palindromic substring contained in a. Your function definition should look like \"question2(a)\", and return a string."
   ]
  },
  {
   "cell_type": "code",
   "execution_count": 8,
   "metadata": {
    "collapsed": false
   },
   "outputs": [],
   "source": [
    "def question2(a):\n",
    "    #Check the input\n",
    "    if type(a) is not str:\n",
    "        print 'Input is not string!'\n",
    "        return None\n",
    "    if len(a)<2:\n",
    "        print 'Input is too short'\n",
    "        return None\n",
    "    #Insert | into the original string,i.e., 'abc'->'|a|b|c|'\n",
    "    A = '|'\n",
    "    for i in range(len(a)):\n",
    "        A += a[i] \n",
    "        A += '|'\n",
    "\n",
    "    P = []#Record length of palindromic for each character as a center\n",
    "    str_list = []#Record palindromic substring for each character as a center\n",
    "    pal_len_max = 0\n",
    "    pal_max = ''\n",
    "    #Traverse each character and check palindromic substring around it\n",
    "    for j in range(len(A)):\n",
    "        P.append(0)\n",
    "        str_list.append('')\n",
    "        if j>0 and j<len(A)-1:\n",
    "            steps = j if j<= len(A)-j-1 else len(A)-j-1# is j bigger than half of the length\n",
    "            P[j] = 1 if j%2>0 else 0 #Suppose it is symmetric around the jth character initially\n",
    "            str_list[j] = A[j] if j%2>0 else '' #record the jth character if not |\n",
    "            for k in range(steps):                \n",
    "                if A[j-k-1] != A[j+k+1]:#if not symmetric, break\n",
    "                    #P[j] = k\n",
    "                    #str_list[j] = A[j-k:j+k+1]\n",
    "                    break\n",
    "                if (j-k-1)%2>0:#skip inserted '|'\n",
    "                    P[j] += 1\n",
    "                    str_list[j] = str_list[j] + A[j-k-1]#add left character\n",
    "                    str_list[j] = A[j+k+1] + str_list[j]#add right character\n",
    "        if P[j]>pal_len_max:#Find the longest palindromic substring\n",
    "            pal_len_max = P[j]\n",
    "            pal_max = str_list[j]\n",
    "    if pal_len_max<2:\n",
    "        print 'No palindromic substring Exists!'\n",
    "        return None\n",
    "    return pal_max"
   ]
  },
  {
   "cell_type": "markdown",
   "metadata": {
    "collapsed": false
   },
   "source": [
    "In this problem, my plan is to treat each character as a center, and traverse its neighbors to check palindromic substrings. But there are two cases of palindromic substring, i.e., Case 1: a = 'udadu', a is symmetric around letter'a'; Case 2: a='uddu', a is symmetric around the center of 'dd'. To handle Case 2, I transformed the original string by inserting a '|' between each adjacent pair of characters, i.e., a='sdshjdssd',a_transform='|s|d|s|h|j|d|s|s|d|'. \n",
    "\n",
    "After transformation, my function traversed each character, and treated each character as a axis, moved left and right at the same time, compared left neighboring characters to right neigboring characters step by step, until two corresponding characters were different, then recorded the length and substring, so I could get the length and palindromic substring for each character as an axis. Meanwhile, I kept a variable to record the longest palindromic substring during the loop.\n",
    "\n",
    "Suppose the length of original string is *n*, then the transformed string length is *2n+1*, the length of step ranges from 1 to n. In the worst case, for example all the characters are identical, then the algorithm has to traverse all numbers within step, the efficiency of my function was *O(2(1+2+...+n))=O(n^2+n)*. And the best case is that none of the characters are identical, so the efficiency should be *O(2n-1)*. The average should be *O((n^2+3n-1)/2)*."
   ]
  },
  {
   "cell_type": "code",
   "execution_count": 12,
   "metadata": {
    "collapsed": false
   },
   "outputs": [
    {
     "name": "stdout",
     "output_type": "stream",
     "text": [
      "The longest palindromic substring contained in a: tabcbat\n",
      "The longest palindromic substring contained in a: sssssssss\n"
     ]
    }
   ],
   "source": [
    "#Examples\n",
    "a='sdffdsghjkdtabcbatfghj'\n",
    "print 'The longest palindromic substring contained in a:', question2(a)\n",
    "a='sssssssss'\n",
    "print 'The longest palindromic substring contained in a:', question2(a)"
   ]
  },
  {
   "cell_type": "markdown",
   "metadata": {},
   "source": [
    "## Question 3: \n",
    "\n",
    "Given an undirected graph G, find the minimum spanning tree within G. A minimum spanning tree connects all vertices in a graph with the smallest possible total weight of edges. Your function should take in and return an adjacency list structured like this: {'A':[('B',2)],'B':[('A',2),('C',5)],'C':[('B',5)]}. Vertices are represented as unique strings. The function definition should be \"question3(G)\""
   ]
  },
  {
   "cell_type": "code",
   "execution_count": 10,
   "metadata": {
    "collapsed": true
   },
   "outputs": [],
   "source": [
    "def question3(G):\n",
    "    #Check the input\n",
    "    if G == None or type(G) is not dict:\n",
    "        print 'Input is wrong!'\n",
    "        return None\n",
    "    if len(G) == 0:\n",
    "        print 'Empty input!'\n",
    "        return {}\n",
    "    #Get all the vertices\n",
    "    vertices = G.keys()\n",
    "    vertices_num = len(vertices)\n",
    "    #Use Prim Tree\n",
    "    vertices_prim = []\n",
    "    tree_prim = dict()\n",
    "    weights_prim = 0\n",
    "    #Select the first vertex randomly\n",
    "    current_vertex = vertices[0]\n",
    "    next_vertex = None\n",
    "    vertices_prim.append(current_vertex)\n",
    "    #Find the nearest neighbor during each iteration\n",
    "    while len(vertices_prim)<vertices_num:\n",
    "        edge_weight = float('inf')\n",
    "        for vertex in vertices_prim:\n",
    "            edges  = G[vertex]\n",
    "            #Traverse each possible edges\n",
    "            for edge in edges:\n",
    "                if edge[1]<edge_weight:\n",
    "                    edge_weight = edge[1]\n",
    "                    current_vertex = vertex\n",
    "                    next_vertex = edge[0]\n",
    "        #Remove selected edge from the original adjacent list\n",
    "        G[current_vertex].remove((next_vertex,edge_weight))\n",
    "        G[next_vertex].remove((current_vertex,edge_weight))\n",
    "        #Add edges to the growing prim tree\n",
    "        if current_vertex in tree_prim:\n",
    "            tree_prim[current_vertex].append((next_vertex,edge_weight))\n",
    "        else:\n",
    "            tree_prim[current_vertex] = [(next_vertex,edge_weight)]\n",
    "        if next_vertex in tree_prim:\n",
    "            tree_prim[next_vertex].append((current_vertex,edge_weight))\n",
    "        else:\n",
    "            tree_prim[next_vertex] = [(current_vertex,edge_weight)]  \n",
    "        #Add the closest neighbor\n",
    "        vertices_prim.append(next_vertex)\n",
    "        weights_prim += edge_weight\n",
    "    \n",
    "    return tree_prim"
   ]
  },
  {
   "cell_type": "code",
   "execution_count": 11,
   "metadata": {
    "collapsed": false
   },
   "outputs": [
    {
     "data": {
      "text/plain": [
       "{'A': [('B', 2)],\n",
       " 'B': [('A', 2), ('C', 5)],\n",
       " 'C': [('B', 5), ('D', 3)],\n",
       " 'D': [('C', 3)]}"
      ]
     },
     "execution_count": 11,
     "metadata": {},
     "output_type": "execute_result"
    }
   ],
   "source": [
    "G = {'A':[('B',2)],'B':[('A',2),('C',5),('D',10)],'C':[('B',5),('D',3)],'D':[('B',10),('C',3)]}\n",
    "question3(G)"
   ]
  },
  {
   "cell_type": "markdown",
   "metadata": {},
   "source": [
    "I have read some materials about the minimum spanning tree, there are two common algorithms, and I used one of them, Prim-Tree. First I selected a vertex randomly, then I selected a closest neighboring vertex, stored it  in a list. Next I selected a vertex closest to the previous slected ones. I repeated it again and again until all the vertices were selected.\n",
    "\n",
    "From the beginning, I created a Prim tree. When I selected a vertex, I would add the vertex and corresponding edge to the Prim Tree. Meanwhile I would remove the corresponding edge from the original tree to reduce traverse times in the future.\n",
    "\n",
    "Suppose there are V vertices and E edges, so each vertex has average *2E/V* edges, and there are *V(V+1)/2* iterations for all the vertices, and during each iteration, two edges will be removed, so the average efficiency would be *E(V+1)-2(V-1)*."
   ]
  },
  {
   "cell_type": "markdown",
   "metadata": {},
   "source": [
    "## Question 4: \n",
    "\n",
    "Find the least common ancestor between two nodes on a binary search tree. The least common ancestor is the farthest node from the root that is an ancestor of both nodes. For example, the root is a common ancestor of all nodes on the tree, but if both nodes are descendents of the root's left child, then that left child might be the lowest common ancestor. You can assume that both nodes are in the tree, and the tree itself adheres to all BST properties. The function definition should look like \"question4(T, r, n1, n2)\", where T is the tree represented as a matrix, where the index of the list is equal to the integer stored in that node and a 1 represents a child node, r is a non-negative integer representing the root, and n1 and n2 are non-negative integers representing the two nodes in no particular order. For example, one test case might be question4([[0,1,0,0,0],[0,0,0,0,0],[0,0,0,0,0],[1,0,0,0,1],[0,0,0,0,0]],3,1,4), and the answer would be 3."
   ]
  },
  {
   "cell_type": "code",
   "execution_count": 3,
   "metadata": {
    "collapsed": false
   },
   "outputs": [],
   "source": [
    "def question4(T,r,n1,n2):\n",
    "    #Check the input\n",
    "    if T == None or type(r) is not \\\n",
    "    int or type(n1) is not int or type(n2) is not int:\n",
    "        print 'Invalid input!'\n",
    "        return None\n",
    "    node_num = len(T)#number of nodes(including leaves)\n",
    "    ancestor1_nodes = [n1]#List of ancestors of the first node, including itself\n",
    "    ancestor2_nodes = [n2]#List of ancestors of the first node, including itself\n",
    "    node1 = n1\n",
    "    node2 = n2\n",
    "    #Find ancestors of the first node\n",
    "    while node1!=r:\n",
    "        for i in range(node_num):\n",
    "            if T[i][node1]>0:#if node1's parent is node i\n",
    "                ancestor1_nodes.append(i)\n",
    "                node1 = i\n",
    "                break\n",
    "    #Find ancestors of the second node            \n",
    "    while node2!=r:\n",
    "        for i in range(node_num):\n",
    "            if T[i][node2]>0:#if node1's parent is node i\n",
    "                ancestor2_nodes.append(i)\n",
    "                node2 = i\n",
    "                break\n",
    "        #if this is also ancestor of the first node, return\n",
    "        if node2 in ancestor1_nodes:\n",
    "            return node2\n",
    "    \n",
    "    return ancestor1_nodes, ancestor2_nodes"
   ]
  },
  {
   "cell_type": "code",
   "execution_count": 4,
   "metadata": {
    "collapsed": false
   },
   "outputs": [
    {
     "data": {
      "text/plain": [
       "0"
      ]
     },
     "execution_count": 4,
     "metadata": {},
     "output_type": "execute_result"
    }
   ],
   "source": [
    "T = [[0,1,1,0,0],[0,0,0,0,0],[0,0,0,0,0],[1,0,0,0,1],[0,0,0,0,0]]\n",
    "question4(T,3,0,1)"
   ]
  },
  {
   "cell_type": "markdown",
   "metadata": {
    "collapsed": true
   },
   "source": [
    "In my algorithm, I first obtained ancestor nodes of the first given node from down to top until the root, stored them in a list. Then, I traversed ancestor nodes of the second node from down to top one by one, checking whether the ancestor node was also an ancestor of the first node, if so, return the ancestor node.\n",
    "\n",
    "Suppose there are n nodes in T. As in a binary tree, the height is *log2(n)*, the efficieny is approximate *2log2(n)*."
   ]
  },
  {
   "cell_type": "markdown",
   "metadata": {},
   "source": [
    "## Question 5: \n",
    "\n",
    "Find the element in a singly linked list that's m elements from the end. For example, if a linked list has 5 elements, the 3rd element from the end is the 3rd element. The function definition should look like \"question5(ll, m)\", where ll is the first node of a linked list and m is the \"mth number from the end\". You should copy/paste the Node class below to use as a representation of a node in the linked list. Return the value of the node at that position.\n",
    "\n",
    "class Node(object):\n",
    "  \n",
    "    def __init__(self, data):\n",
    "  \n",
    "      self.data = data    \n",
    "      self.next = None"
   ]
  },
  {
   "cell_type": "code",
   "execution_count": 15,
   "metadata": {
    "collapsed": true
   },
   "outputs": [],
   "source": [
    "#Node class\n",
    "class Node(object):\n",
    "    def __init__(self, data):\n",
    "        self.data = data    \n",
    "        self.next = None\n",
    "\n",
    "#Create a linked list based on node class\n",
    "def CreateList(num = 8):\n",
    "    node = Node(0)\n",
    "    node.next = Node(1)\n",
    "    temp = node\n",
    "    for i in range(num):\n",
    "        temp = temp.next\n",
    "        temp.next = Node(i+2)\n",
    "    return node\n",
    "        \n",
    "#Find mth number from the end\n",
    "def question5(ll,m):\n",
    "    #Check the input\n",
    "    if type(ll) is None or type(m) is not int:\n",
    "        print 'Invalid input!'\n",
    "        return None\n",
    "    nodes = []\n",
    "    #Traverse all the nodes in order, save the values in a list\n",
    "    while ll!= None:\n",
    "        nodes.append(ll.data)\n",
    "        ll = ll.next\n",
    "    #for i in range(m):\n",
    "        #nodes.pop()\n",
    "    #If m is larger than the length of the list\n",
    "    if m>len(nodes):\n",
    "        print '\"m\" exceeds the length of the list!'\n",
    "        return None\n",
    "    #mth number from the end\n",
    "    return  nodes[-m:][0]"
   ]
  },
  {
   "cell_type": "code",
   "execution_count": 18,
   "metadata": {
    "collapsed": false
   },
   "outputs": [
    {
     "name": "stdout",
     "output_type": "stream",
     "text": [
      "The data in the nodes:\n",
      "0\n",
      "1\n",
      "2\n",
      "3\n",
      "4\n",
      "5\n",
      "6\n",
      "7\n",
      "8\n",
      "9\n",
      "The 4th element from the end: 6\n"
     ]
    }
   ],
   "source": [
    "#Example\n",
    "ll = CreateList(8)\n",
    "#Display the nodes\n",
    "print 'The data in the nodes:'\n",
    "while ll!=None:\n",
    "    print ll.data\n",
    "    ll = ll.next\n",
    "\n",
    "#Find the mth node from the end\n",
    "ll = CreateList(8)\n",
    "print 'The 4th element from the end:', question5(ll,4)"
   ]
  },
  {
   "cell_type": "markdown",
   "metadata": {},
   "source": [
    "In this problem, first I traversed all the linked nodes and recorded them in a list in order, then used Python list indice to get mth value from the end directly. If the length of the linked list is n, the efficiency of this algorithm is *O(n)*."
   ]
  }
 ],
 "metadata": {
  "kernelspec": {
   "display_name": "Python 2",
   "language": "python",
   "name": "python2"
  },
  "language_info": {
   "codemirror_mode": {
    "name": "ipython",
    "version": 2
   },
   "file_extension": ".py",
   "mimetype": "text/x-python",
   "name": "python",
   "nbconvert_exporter": "python",
   "pygments_lexer": "ipython2",
   "version": "2.7.10"
  }
 },
 "nbformat": 4,
 "nbformat_minor": 0
}
