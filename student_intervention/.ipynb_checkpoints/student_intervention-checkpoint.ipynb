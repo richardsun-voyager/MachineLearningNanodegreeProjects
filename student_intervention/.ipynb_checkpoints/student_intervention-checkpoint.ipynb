{
 "cells": [
  {
   "cell_type": "markdown",
   "metadata": {},
   "source": [
    "# Project 2: Supervised Learning\n",
    "### Building a Student Intervention System"
   ]
  },
  {
   "cell_type": "markdown",
   "metadata": {},
   "source": [
    "## 1. Classification vs Regression\n",
    "\n",
    "Your goal is to identify students who might need early intervention - which type of supervised machine learning problem is this, classification or regression? Why?\n",
    "\n",
    "This supervised machine learning problem belongs to classification, because the outcome should be two categorical values: need early intervention or not. And we need make decisions whether a student might need early intervention based on the features."
   ]
  },
  {
   "cell_type": "markdown",
   "metadata": {},
   "source": [
    "## 2. Exploring the Data\n",
    "\n",
    "Let's go ahead and read in the student dataset first.\n",
    "\n",
    "_To execute a code cell, click inside it and press **Shift+Enter**._"
   ]
  },
  {
   "cell_type": "code",
   "execution_count": 2,
   "metadata": {
    "collapsed": false
   },
   "outputs": [],
   "source": [
    "# Import libraries\n",
    "import numpy as np\n",
    "import pandas as pd"
   ]
  },
  {
   "cell_type": "code",
   "execution_count": 3,
   "metadata": {
    "collapsed": false
   },
   "outputs": [
    {
     "name": "stdout",
     "output_type": "stream",
     "text": [
      "Student data read successfully!\n"
     ]
    }
   ],
   "source": [
    "# Read student data\n",
    "student_data = pd.read_csv(\"student-data.csv\")\n",
    "print \"Student data read successfully!\"\n",
    "# Note: The last column 'passed' is the target/label, all other are feature columns"
   ]
  },
  {
   "cell_type": "markdown",
   "metadata": {},
   "source": [
    "Now, can you find out the following facts about the dataset?\n",
    "- Total number of students\n",
    "- Number of students who passed\n",
    "- Number of students who failed\n",
    "- Graduation rate of the class (%)\n",
    "- Number of features\n",
    "\n",
    "_Use the code block below to compute these values. Instructions/steps are marked using **TODO**s._"
   ]
  },
  {
   "cell_type": "code",
   "execution_count": 4,
   "metadata": {
    "collapsed": false
   },
   "outputs": [
    {
     "data": {
      "text/html": [
       "<div style=\"max-height:1000px;max-width:1500px;overflow:auto;\">\n",
       "<table border=\"1\" class=\"dataframe\">\n",
       "  <thead>\n",
       "    <tr style=\"text-align: right;\">\n",
       "      <th></th>\n",
       "      <th>school</th>\n",
       "      <th>sex</th>\n",
       "      <th>age</th>\n",
       "      <th>address</th>\n",
       "      <th>famsize</th>\n",
       "      <th>Pstatus</th>\n",
       "      <th>Medu</th>\n",
       "      <th>Fedu</th>\n",
       "      <th>Mjob</th>\n",
       "      <th>Fjob</th>\n",
       "      <th>...</th>\n",
       "      <th>internet</th>\n",
       "      <th>romantic</th>\n",
       "      <th>famrel</th>\n",
       "      <th>freetime</th>\n",
       "      <th>goout</th>\n",
       "      <th>Dalc</th>\n",
       "      <th>Walc</th>\n",
       "      <th>health</th>\n",
       "      <th>absences</th>\n",
       "      <th>passed</th>\n",
       "    </tr>\n",
       "  </thead>\n",
       "  <tbody>\n",
       "    <tr>\n",
       "      <th>0</th>\n",
       "      <td> GP</td>\n",
       "      <td> F</td>\n",
       "      <td> 18</td>\n",
       "      <td> U</td>\n",
       "      <td> GT3</td>\n",
       "      <td> A</td>\n",
       "      <td> 4</td>\n",
       "      <td> 4</td>\n",
       "      <td> at_home</td>\n",
       "      <td> teacher</td>\n",
       "      <td>...</td>\n",
       "      <td>  no</td>\n",
       "      <td> no</td>\n",
       "      <td> 4</td>\n",
       "      <td> 3</td>\n",
       "      <td> 4</td>\n",
       "      <td> 1</td>\n",
       "      <td> 1</td>\n",
       "      <td> 3</td>\n",
       "      <td>  6</td>\n",
       "      <td>  no</td>\n",
       "    </tr>\n",
       "    <tr>\n",
       "      <th>1</th>\n",
       "      <td> GP</td>\n",
       "      <td> F</td>\n",
       "      <td> 17</td>\n",
       "      <td> U</td>\n",
       "      <td> GT3</td>\n",
       "      <td> T</td>\n",
       "      <td> 1</td>\n",
       "      <td> 1</td>\n",
       "      <td> at_home</td>\n",
       "      <td>   other</td>\n",
       "      <td>...</td>\n",
       "      <td> yes</td>\n",
       "      <td> no</td>\n",
       "      <td> 5</td>\n",
       "      <td> 3</td>\n",
       "      <td> 3</td>\n",
       "      <td> 1</td>\n",
       "      <td> 1</td>\n",
       "      <td> 3</td>\n",
       "      <td>  4</td>\n",
       "      <td>  no</td>\n",
       "    </tr>\n",
       "    <tr>\n",
       "      <th>2</th>\n",
       "      <td> GP</td>\n",
       "      <td> F</td>\n",
       "      <td> 15</td>\n",
       "      <td> U</td>\n",
       "      <td> LE3</td>\n",
       "      <td> T</td>\n",
       "      <td> 1</td>\n",
       "      <td> 1</td>\n",
       "      <td> at_home</td>\n",
       "      <td>   other</td>\n",
       "      <td>...</td>\n",
       "      <td> yes</td>\n",
       "      <td> no</td>\n",
       "      <td> 4</td>\n",
       "      <td> 3</td>\n",
       "      <td> 2</td>\n",
       "      <td> 2</td>\n",
       "      <td> 3</td>\n",
       "      <td> 3</td>\n",
       "      <td> 10</td>\n",
       "      <td> yes</td>\n",
       "    </tr>\n",
       "  </tbody>\n",
       "</table>\n",
       "<p>3 rows × 31 columns</p>\n",
       "</div>"
      ],
      "text/plain": [
       "  school sex  age address famsize Pstatus  Medu  Fedu     Mjob     Fjob  \\\n",
       "0     GP   F   18       U     GT3       A     4     4  at_home  teacher   \n",
       "1     GP   F   17       U     GT3       T     1     1  at_home    other   \n",
       "2     GP   F   15       U     LE3       T     1     1  at_home    other   \n",
       "\n",
       "   ...   internet romantic  famrel  freetime  goout Dalc Walc health absences  \\\n",
       "0  ...         no       no       4         3      4    1    1      3        6   \n",
       "1  ...        yes       no       5         3      3    1    1      3        4   \n",
       "2  ...        yes       no       4         3      2    2    3      3       10   \n",
       "\n",
       "  passed  \n",
       "0     no  \n",
       "1     no  \n",
       "2    yes  \n",
       "\n",
       "[3 rows x 31 columns]"
      ]
     },
     "execution_count": 4,
     "metadata": {},
     "output_type": "execute_result"
    }
   ],
   "source": [
    "student_data.head(3)"
   ]
  },
  {
   "cell_type": "code",
   "execution_count": 5,
   "metadata": {
    "collapsed": false
   },
   "outputs": [
    {
     "name": "stdout",
     "output_type": "stream",
     "text": [
      "Total number of students: 395\n",
      "Number of students who passed: 265\n",
      "Number of students who failed: 130\n",
      "Number of features: 30\n",
      "Graduation rate of the class: 67.09%\n"
     ]
    }
   ],
   "source": [
    "# TODO: Compute desired values - replace each '?' with an appropriate expression/function call\n",
    "n_students = student_data.shape[0]\n",
    "n_features = student_data.shape[1] - 1\n",
    "n_passed = sum(student_data.passed=='yes')\n",
    "n_failed = sum(student_data.passed=='no')\n",
    "grad_rate = 100.0*n_passed/(n_passed + n_failed)\n",
    "print \"Total number of students: {}\".format(n_students)\n",
    "print \"Number of students who passed: {}\".format(n_passed)\n",
    "print \"Number of students who failed: {}\".format(n_failed)\n",
    "print \"Number of features: {}\".format(n_features)\n",
    "print \"Graduation rate of the class: {:.2f}%\".format(grad_rate)"
   ]
  },
  {
   "cell_type": "markdown",
   "metadata": {},
   "source": [
    "## 3. Preparing the Data\n",
    "In this section, we will prepare the data for modeling, training and testing.\n",
    "\n",
    "### Identify feature and target columns\n",
    "It is often the case that the data you obtain contains non-numeric features. This can be a problem, as most machine learning algorithms expect numeric data to perform computations with.\n",
    "\n",
    "Let's first separate our data into feature and target columns, and see if any features are non-numeric.<br/>\n",
    "**Note**: For this dataset, the last column (`'passed'`) is the target or label we are trying to predict."
   ]
  },
  {
   "cell_type": "code",
   "execution_count": 6,
   "metadata": {
    "collapsed": false
   },
   "outputs": [
    {
     "name": "stdout",
     "output_type": "stream",
     "text": [
      "Feature column(s):-\n",
      "['school', 'sex', 'age', 'address', 'famsize', 'Pstatus', 'Medu', 'Fedu', 'Mjob', 'Fjob', 'reason', 'guardian', 'traveltime', 'studytime', 'failures', 'schoolsup', 'famsup', 'paid', 'activities', 'nursery', 'higher', 'internet', 'romantic', 'famrel', 'freetime', 'goout', 'Dalc', 'Walc', 'health', 'absences']\n",
      "Target column: passed\n",
      "\n",
      "Feature values:-\n",
      "  school sex  age address famsize Pstatus  Medu  Fedu     Mjob      Fjob  \\\n",
      "0     GP   F   18       U     GT3       A     4     4  at_home   teacher   \n",
      "1     GP   F   17       U     GT3       T     1     1  at_home     other   \n",
      "2     GP   F   15       U     LE3       T     1     1  at_home     other   \n",
      "3     GP   F   15       U     GT3       T     4     2   health  services   \n",
      "4     GP   F   16       U     GT3       T     3     3    other     other   \n",
      "\n",
      "    ...    higher internet  romantic  famrel  freetime goout Dalc Walc health  \\\n",
      "0   ...       yes       no        no       4         3     4    1    1      3   \n",
      "1   ...       yes      yes        no       5         3     3    1    1      3   \n",
      "2   ...       yes      yes        no       4         3     2    2    3      3   \n",
      "3   ...       yes      yes       yes       3         2     2    1    1      5   \n",
      "4   ...       yes       no        no       4         3     2    1    2      5   \n",
      "\n",
      "  absences  \n",
      "0        6  \n",
      "1        4  \n",
      "2       10  \n",
      "3        2  \n",
      "4        4  \n",
      "\n",
      "[5 rows x 30 columns]\n"
     ]
    }
   ],
   "source": [
    "# Extract feature (X) and target (y) columns\n",
    "feature_cols = list(student_data.columns[:-1])  # all columns but last are features\n",
    "target_col = student_data.columns[-1]  # last column is the target/label\n",
    "print \"Feature column(s):-\\n{}\".format(feature_cols)\n",
    "print \"Target column: {}\".format(target_col)\n",
    "\n",
    "X_all = student_data[feature_cols]  # feature values for all students\n",
    "y_all = student_data[target_col]  # corresponding targets/labels\n",
    "print \"\\nFeature values:-\"\n",
    "print X_all.head()  # print the first 5 rows"
   ]
  },
  {
   "cell_type": "markdown",
   "metadata": {},
   "source": [
    "### Preprocess feature columns\n",
    "\n",
    "As you can see, there are several non-numeric columns that need to be converted! Many of them are simply `yes`/`no`, e.g. `internet`. These can be reasonably converted into `1`/`0` (binary) values.\n",
    "\n",
    "Other columns, like `Mjob` and `Fjob`, have more than two values, and are known as _categorical variables_. The recommended way to handle such a column is to create as many columns as possible values (e.g. `Fjob_teacher`, `Fjob_other`, `Fjob_services`, etc.), and assign a `1` to one of them and `0` to all others.\n",
    "\n",
    "These generated columns are sometimes called _dummy variables_, and we will use the [`pandas.get_dummies()`](http://pandas.pydata.org/pandas-docs/stable/generated/pandas.get_dummies.html?highlight=get_dummies#pandas.get_dummies) function to perform this transformation."
   ]
  },
  {
   "cell_type": "code",
   "execution_count": 7,
   "metadata": {
    "collapsed": false
   },
   "outputs": [
    {
     "name": "stdout",
     "output_type": "stream",
     "text": [
      "Processed feature columns (48):-\n",
      "['school_GP', 'school_MS', 'sex_F', 'sex_M', 'age', 'address_R', 'address_U', 'famsize_GT3', 'famsize_LE3', 'Pstatus_A', 'Pstatus_T', 'Medu', 'Fedu', 'Mjob_at_home', 'Mjob_health', 'Mjob_other', 'Mjob_services', 'Mjob_teacher', 'Fjob_at_home', 'Fjob_health', 'Fjob_other', 'Fjob_services', 'Fjob_teacher', 'reason_course', 'reason_home', 'reason_other', 'reason_reputation', 'guardian_father', 'guardian_mother', 'guardian_other', 'traveltime', 'studytime', 'failures', 'schoolsup', 'famsup', 'paid', 'activities', 'nursery', 'higher', 'internet', 'romantic', 'famrel', 'freetime', 'goout', 'Dalc', 'Walc', 'health', 'absences']\n"
     ]
    }
   ],
   "source": [
    "# Preprocess feature columns\n",
    "def preprocess_features(X):\n",
    "    outX = pd.DataFrame(index=X.index)  # output dataframe, initially empty\n",
    "\n",
    "    # Check each column\n",
    "    for col, col_data in X.iteritems():\n",
    "        # If data type is non-numeric, try to replace all yes/no values with 1/0\n",
    "        if col_data.dtype == object:\n",
    "            col_data = col_data.replace(['yes', 'no'], [1, 0])\n",
    "        # Note: This should change the data type for yes/no columns to int\n",
    "\n",
    "        # If still non-numeric, convert to one or more dummy variables\n",
    "        if col_data.dtype == object:\n",
    "            col_data = pd.get_dummies(col_data, prefix=col)  # e.g. 'school' => 'school_GP', 'school_MS'\n",
    "\n",
    "        outX = outX.join(col_data)  # collect column(s) in output dataframe\n",
    "\n",
    "    return outX\n",
    "\n",
    "X_all = preprocess_features(X_all)\n",
    "print \"Processed feature columns ({}):-\\n{}\".format(len(X_all.columns), list(X_all.columns))"
   ]
  },
  {
   "cell_type": "markdown",
   "metadata": {},
   "source": [
    "### Split data into training and test sets\n",
    "\n",
    "So far, we have converted all _categorical_ features into numeric values. In this next step, we split the data (both features and corresponding labels) into training and test sets."
   ]
  },
  {
   "cell_type": "code",
   "execution_count": 8,
   "metadata": {
    "collapsed": false
   },
   "outputs": [
    {
     "data": {
      "text/html": [
       "<div style=\"max-height:1000px;max-width:1500px;overflow:auto;\">\n",
       "<table border=\"1\" class=\"dataframe\">\n",
       "  <thead>\n",
       "    <tr style=\"text-align: right;\">\n",
       "      <th></th>\n",
       "      <th>school_GP</th>\n",
       "      <th>school_MS</th>\n",
       "      <th>sex_F</th>\n",
       "      <th>sex_M</th>\n",
       "      <th>age</th>\n",
       "      <th>address_R</th>\n",
       "      <th>address_U</th>\n",
       "      <th>famsize_GT3</th>\n",
       "      <th>famsize_LE3</th>\n",
       "      <th>Pstatus_A</th>\n",
       "      <th>...</th>\n",
       "      <th>higher</th>\n",
       "      <th>internet</th>\n",
       "      <th>romantic</th>\n",
       "      <th>famrel</th>\n",
       "      <th>freetime</th>\n",
       "      <th>goout</th>\n",
       "      <th>Dalc</th>\n",
       "      <th>Walc</th>\n",
       "      <th>health</th>\n",
       "      <th>absences</th>\n",
       "    </tr>\n",
       "  </thead>\n",
       "  <tbody>\n",
       "    <tr>\n",
       "      <th>0</th>\n",
       "      <td> 1</td>\n",
       "      <td> 0</td>\n",
       "      <td> 1</td>\n",
       "      <td> 0</td>\n",
       "      <td> 18</td>\n",
       "      <td> 0</td>\n",
       "      <td> 1</td>\n",
       "      <td> 1</td>\n",
       "      <td> 0</td>\n",
       "      <td> 1</td>\n",
       "      <td>...</td>\n",
       "      <td> 1</td>\n",
       "      <td> 0</td>\n",
       "      <td> 0</td>\n",
       "      <td> 4</td>\n",
       "      <td> 3</td>\n",
       "      <td> 4</td>\n",
       "      <td> 1</td>\n",
       "      <td> 1</td>\n",
       "      <td> 3</td>\n",
       "      <td>  6</td>\n",
       "    </tr>\n",
       "    <tr>\n",
       "      <th>1</th>\n",
       "      <td> 1</td>\n",
       "      <td> 0</td>\n",
       "      <td> 1</td>\n",
       "      <td> 0</td>\n",
       "      <td> 17</td>\n",
       "      <td> 0</td>\n",
       "      <td> 1</td>\n",
       "      <td> 1</td>\n",
       "      <td> 0</td>\n",
       "      <td> 0</td>\n",
       "      <td>...</td>\n",
       "      <td> 1</td>\n",
       "      <td> 1</td>\n",
       "      <td> 0</td>\n",
       "      <td> 5</td>\n",
       "      <td> 3</td>\n",
       "      <td> 3</td>\n",
       "      <td> 1</td>\n",
       "      <td> 1</td>\n",
       "      <td> 3</td>\n",
       "      <td>  4</td>\n",
       "    </tr>\n",
       "    <tr>\n",
       "      <th>2</th>\n",
       "      <td> 1</td>\n",
       "      <td> 0</td>\n",
       "      <td> 1</td>\n",
       "      <td> 0</td>\n",
       "      <td> 15</td>\n",
       "      <td> 0</td>\n",
       "      <td> 1</td>\n",
       "      <td> 0</td>\n",
       "      <td> 1</td>\n",
       "      <td> 0</td>\n",
       "      <td>...</td>\n",
       "      <td> 1</td>\n",
       "      <td> 1</td>\n",
       "      <td> 0</td>\n",
       "      <td> 4</td>\n",
       "      <td> 3</td>\n",
       "      <td> 2</td>\n",
       "      <td> 2</td>\n",
       "      <td> 3</td>\n",
       "      <td> 3</td>\n",
       "      <td> 10</td>\n",
       "    </tr>\n",
       "    <tr>\n",
       "      <th>3</th>\n",
       "      <td> 1</td>\n",
       "      <td> 0</td>\n",
       "      <td> 1</td>\n",
       "      <td> 0</td>\n",
       "      <td> 15</td>\n",
       "      <td> 0</td>\n",
       "      <td> 1</td>\n",
       "      <td> 1</td>\n",
       "      <td> 0</td>\n",
       "      <td> 0</td>\n",
       "      <td>...</td>\n",
       "      <td> 1</td>\n",
       "      <td> 1</td>\n",
       "      <td> 1</td>\n",
       "      <td> 3</td>\n",
       "      <td> 2</td>\n",
       "      <td> 2</td>\n",
       "      <td> 1</td>\n",
       "      <td> 1</td>\n",
       "      <td> 5</td>\n",
       "      <td>  2</td>\n",
       "    </tr>\n",
       "    <tr>\n",
       "      <th>4</th>\n",
       "      <td> 1</td>\n",
       "      <td> 0</td>\n",
       "      <td> 1</td>\n",
       "      <td> 0</td>\n",
       "      <td> 16</td>\n",
       "      <td> 0</td>\n",
       "      <td> 1</td>\n",
       "      <td> 1</td>\n",
       "      <td> 0</td>\n",
       "      <td> 0</td>\n",
       "      <td>...</td>\n",
       "      <td> 1</td>\n",
       "      <td> 0</td>\n",
       "      <td> 0</td>\n",
       "      <td> 4</td>\n",
       "      <td> 3</td>\n",
       "      <td> 2</td>\n",
       "      <td> 1</td>\n",
       "      <td> 2</td>\n",
       "      <td> 5</td>\n",
       "      <td>  4</td>\n",
       "    </tr>\n",
       "  </tbody>\n",
       "</table>\n",
       "<p>5 rows × 48 columns</p>\n",
       "</div>"
      ],
      "text/plain": [
       "   school_GP  school_MS  sex_F  sex_M  age  address_R  address_U  famsize_GT3  \\\n",
       "0          1          0      1      0   18          0          1            1   \n",
       "1          1          0      1      0   17          0          1            1   \n",
       "2          1          0      1      0   15          0          1            0   \n",
       "3          1          0      1      0   15          0          1            1   \n",
       "4          1          0      1      0   16          0          1            1   \n",
       "\n",
       "   famsize_LE3  Pstatus_A    ...     higher  internet  romantic  famrel  \\\n",
       "0            0          1    ...          1         0         0       4   \n",
       "1            0          0    ...          1         1         0       5   \n",
       "2            1          0    ...          1         1         0       4   \n",
       "3            0          0    ...          1         1         1       3   \n",
       "4            0          0    ...          1         0         0       4   \n",
       "\n",
       "   freetime  goout  Dalc  Walc  health  absences  \n",
       "0         3      4     1     1       3         6  \n",
       "1         3      3     1     1       3         4  \n",
       "2         3      2     2     3       3        10  \n",
       "3         2      2     1     1       5         2  \n",
       "4         3      2     1     2       5         4  \n",
       "\n",
       "[5 rows x 48 columns]"
      ]
     },
     "execution_count": 8,
     "metadata": {},
     "output_type": "execute_result"
    }
   ],
   "source": [
    "X_all.head()"
   ]
  },
  {
   "cell_type": "code",
   "execution_count": 9,
   "metadata": {
    "collapsed": false
   },
   "outputs": [
    {
     "data": {
      "text/plain": [
       "(395, 48)"
      ]
     },
     "execution_count": 9,
     "metadata": {},
     "output_type": "execute_result"
    }
   ],
   "source": [
    "X_all.shape"
   ]
  },
  {
   "cell_type": "code",
   "execution_count": 53,
   "metadata": {
    "collapsed": false
   },
   "outputs": [
    {
     "name": "stdout",
     "output_type": "stream",
     "text": [
      "Training set: 300 samples\n",
      "Test set: 95 samples\n"
     ]
    }
   ],
   "source": [
    "# First, decide how many training vs test samples you want\n",
    "num_all = student_data.shape[0]  # same as len(student_data)\n",
    "num_train = 300  # about 75% of the data\n",
    "num_test = num_all - num_train\n",
    "\n",
    "# TODO: Then, select features (X) and corresponding labels (y) for the training and test sets\n",
    "# Note: Shuffle the data or randomly select samples to avoid any bias due to ordering in the dataset\n",
    "np.random.seed(1)\n",
    "indices = np.random.permutation(num_all)\n",
    "train_index = indices[:num_train]\n",
    "test_index = indices[:-num_train]\n",
    "X_train = X_all.loc[train_index]\n",
    "y_train = y_all.loc[train_index]\n",
    "X_test = X_all.loc[test_index]\n",
    "y_test = y_all.loc[test_index]\n",
    "print \"Training set: {} samples\".format(X_train.shape[0])\n",
    "print \"Test set: {} samples\".format(X_test.shape[0])\n",
    "# Note: If you need a validation set, extract it from within training data"
   ]
  },
  {
   "cell_type": "markdown",
   "metadata": {},
   "source": [
    "## 4. Training and Evaluating Models\n",
    "Choose 3 supervised learning models that are available in scikit-learn, and appropriate for this problem. For each model:\n",
    "\n",
    "- What are the general applications of this model? What are its strengths and weaknesses?\n",
    "- Given what you know about the data so far, why did you choose this model to apply?\n",
    "- Fit this model to the training data, try to predict labels (for both training and test sets), and measure the F<sub>1</sub> score. Repeat this process with different training set sizes (100, 200, 300), keeping test set constant.\n",
    "\n",
    "Produce a table showing training time, prediction time, F<sub>1</sub> score on training set and F<sub>1</sub> score on test set, for each training set size.\n",
    "\n",
    "Note: You need to produce 3 such tables - one for each model."
   ]
  },
  {
   "cell_type": "code",
   "execution_count": 92,
   "metadata": {
    "collapsed": false
   },
   "outputs": [
    {
     "data": {
      "text/html": [
       "<div style=\"max-height:1000px;max-width:1500px;overflow:auto;\">\n",
       "<table border=\"1\" class=\"dataframe\">\n",
       "  <thead>\n",
       "    <tr style=\"text-align: right;\">\n",
       "      <th></th>\n",
       "      <th>school_GP</th>\n",
       "      <th>school_MS</th>\n",
       "      <th>sex_F</th>\n",
       "      <th>sex_M</th>\n",
       "      <th>age</th>\n",
       "      <th>address_R</th>\n",
       "      <th>address_U</th>\n",
       "      <th>famsize_GT3</th>\n",
       "      <th>famsize_LE3</th>\n",
       "      <th>Pstatus_A</th>\n",
       "      <th>...</th>\n",
       "      <th>higher</th>\n",
       "      <th>internet</th>\n",
       "      <th>romantic</th>\n",
       "      <th>famrel</th>\n",
       "      <th>freetime</th>\n",
       "      <th>goout</th>\n",
       "      <th>Dalc</th>\n",
       "      <th>Walc</th>\n",
       "      <th>health</th>\n",
       "      <th>absences</th>\n",
       "    </tr>\n",
       "  </thead>\n",
       "  <tbody>\n",
       "    <tr>\n",
       "      <th>count</th>\n",
       "      <td> 395.000000</td>\n",
       "      <td> 395.000000</td>\n",
       "      <td> 395.000000</td>\n",
       "      <td> 395.000000</td>\n",
       "      <td> 395.000000</td>\n",
       "      <td> 395.000000</td>\n",
       "      <td> 395.000000</td>\n",
       "      <td> 395.000000</td>\n",
       "      <td> 395.000000</td>\n",
       "      <td> 395.000000</td>\n",
       "      <td>...</td>\n",
       "      <td> 395.000000</td>\n",
       "      <td> 395.000000</td>\n",
       "      <td> 395.000000</td>\n",
       "      <td> 395.000000</td>\n",
       "      <td> 395.000000</td>\n",
       "      <td> 395.000000</td>\n",
       "      <td> 395.000000</td>\n",
       "      <td> 395.000000</td>\n",
       "      <td> 395.000000</td>\n",
       "      <td> 395.000000</td>\n",
       "    </tr>\n",
       "    <tr>\n",
       "      <th>mean</th>\n",
       "      <td>   0.883544</td>\n",
       "      <td>   0.116456</td>\n",
       "      <td>   0.526582</td>\n",
       "      <td>   0.473418</td>\n",
       "      <td>  16.696203</td>\n",
       "      <td>   0.222785</td>\n",
       "      <td>   0.777215</td>\n",
       "      <td>   0.711392</td>\n",
       "      <td>   0.288608</td>\n",
       "      <td>   0.103797</td>\n",
       "      <td>...</td>\n",
       "      <td>   0.949367</td>\n",
       "      <td>   0.832911</td>\n",
       "      <td>   0.334177</td>\n",
       "      <td>   3.944304</td>\n",
       "      <td>   3.235443</td>\n",
       "      <td>   3.108861</td>\n",
       "      <td>   1.481013</td>\n",
       "      <td>   2.291139</td>\n",
       "      <td>   3.554430</td>\n",
       "      <td>   5.708861</td>\n",
       "    </tr>\n",
       "    <tr>\n",
       "      <th>std</th>\n",
       "      <td>   0.321177</td>\n",
       "      <td>   0.321177</td>\n",
       "      <td>   0.499926</td>\n",
       "      <td>   0.499926</td>\n",
       "      <td>   1.276043</td>\n",
       "      <td>   0.416643</td>\n",
       "      <td>   0.416643</td>\n",
       "      <td>   0.453690</td>\n",
       "      <td>   0.453690</td>\n",
       "      <td>   0.305384</td>\n",
       "      <td>...</td>\n",
       "      <td>   0.219525</td>\n",
       "      <td>   0.373528</td>\n",
       "      <td>   0.472300</td>\n",
       "      <td>   0.896659</td>\n",
       "      <td>   0.998862</td>\n",
       "      <td>   1.113278</td>\n",
       "      <td>   0.890741</td>\n",
       "      <td>   1.287897</td>\n",
       "      <td>   1.390303</td>\n",
       "      <td>   8.003096</td>\n",
       "    </tr>\n",
       "    <tr>\n",
       "      <th>min</th>\n",
       "      <td>   0.000000</td>\n",
       "      <td>   0.000000</td>\n",
       "      <td>   0.000000</td>\n",
       "      <td>   0.000000</td>\n",
       "      <td>  15.000000</td>\n",
       "      <td>   0.000000</td>\n",
       "      <td>   0.000000</td>\n",
       "      <td>   0.000000</td>\n",
       "      <td>   0.000000</td>\n",
       "      <td>   0.000000</td>\n",
       "      <td>...</td>\n",
       "      <td>   0.000000</td>\n",
       "      <td>   0.000000</td>\n",
       "      <td>   0.000000</td>\n",
       "      <td>   1.000000</td>\n",
       "      <td>   1.000000</td>\n",
       "      <td>   1.000000</td>\n",
       "      <td>   1.000000</td>\n",
       "      <td>   1.000000</td>\n",
       "      <td>   1.000000</td>\n",
       "      <td>   0.000000</td>\n",
       "    </tr>\n",
       "    <tr>\n",
       "      <th>25%</th>\n",
       "      <td>   1.000000</td>\n",
       "      <td>   0.000000</td>\n",
       "      <td>   0.000000</td>\n",
       "      <td>   0.000000</td>\n",
       "      <td>  16.000000</td>\n",
       "      <td>   0.000000</td>\n",
       "      <td>   1.000000</td>\n",
       "      <td>   0.000000</td>\n",
       "      <td>   0.000000</td>\n",
       "      <td>   0.000000</td>\n",
       "      <td>...</td>\n",
       "      <td>   1.000000</td>\n",
       "      <td>   1.000000</td>\n",
       "      <td>   0.000000</td>\n",
       "      <td>   4.000000</td>\n",
       "      <td>   3.000000</td>\n",
       "      <td>   2.000000</td>\n",
       "      <td>   1.000000</td>\n",
       "      <td>   1.000000</td>\n",
       "      <td>   3.000000</td>\n",
       "      <td>   0.000000</td>\n",
       "    </tr>\n",
       "    <tr>\n",
       "      <th>50%</th>\n",
       "      <td>   1.000000</td>\n",
       "      <td>   0.000000</td>\n",
       "      <td>   1.000000</td>\n",
       "      <td>   0.000000</td>\n",
       "      <td>  17.000000</td>\n",
       "      <td>   0.000000</td>\n",
       "      <td>   1.000000</td>\n",
       "      <td>   1.000000</td>\n",
       "      <td>   0.000000</td>\n",
       "      <td>   0.000000</td>\n",
       "      <td>...</td>\n",
       "      <td>   1.000000</td>\n",
       "      <td>   1.000000</td>\n",
       "      <td>   0.000000</td>\n",
       "      <td>   4.000000</td>\n",
       "      <td>   3.000000</td>\n",
       "      <td>   3.000000</td>\n",
       "      <td>   1.000000</td>\n",
       "      <td>   2.000000</td>\n",
       "      <td>   4.000000</td>\n",
       "      <td>   4.000000</td>\n",
       "    </tr>\n",
       "    <tr>\n",
       "      <th>75%</th>\n",
       "      <td>   1.000000</td>\n",
       "      <td>   0.000000</td>\n",
       "      <td>   1.000000</td>\n",
       "      <td>   1.000000</td>\n",
       "      <td>  18.000000</td>\n",
       "      <td>   0.000000</td>\n",
       "      <td>   1.000000</td>\n",
       "      <td>   1.000000</td>\n",
       "      <td>   1.000000</td>\n",
       "      <td>   0.000000</td>\n",
       "      <td>...</td>\n",
       "      <td>   1.000000</td>\n",
       "      <td>   1.000000</td>\n",
       "      <td>   1.000000</td>\n",
       "      <td>   5.000000</td>\n",
       "      <td>   4.000000</td>\n",
       "      <td>   4.000000</td>\n",
       "      <td>   2.000000</td>\n",
       "      <td>   3.000000</td>\n",
       "      <td>   5.000000</td>\n",
       "      <td>   8.000000</td>\n",
       "    </tr>\n",
       "    <tr>\n",
       "      <th>max</th>\n",
       "      <td>   1.000000</td>\n",
       "      <td>   1.000000</td>\n",
       "      <td>   1.000000</td>\n",
       "      <td>   1.000000</td>\n",
       "      <td>  22.000000</td>\n",
       "      <td>   1.000000</td>\n",
       "      <td>   1.000000</td>\n",
       "      <td>   1.000000</td>\n",
       "      <td>   1.000000</td>\n",
       "      <td>   1.000000</td>\n",
       "      <td>...</td>\n",
       "      <td>   1.000000</td>\n",
       "      <td>   1.000000</td>\n",
       "      <td>   1.000000</td>\n",
       "      <td>   5.000000</td>\n",
       "      <td>   5.000000</td>\n",
       "      <td>   5.000000</td>\n",
       "      <td>   5.000000</td>\n",
       "      <td>   5.000000</td>\n",
       "      <td>   5.000000</td>\n",
       "      <td>  75.000000</td>\n",
       "    </tr>\n",
       "  </tbody>\n",
       "</table>\n",
       "<p>8 rows × 48 columns</p>\n",
       "</div>"
      ],
      "text/plain": [
       "        school_GP   school_MS       sex_F       sex_M         age   address_R  \\\n",
       "count  395.000000  395.000000  395.000000  395.000000  395.000000  395.000000   \n",
       "mean     0.883544    0.116456    0.526582    0.473418   16.696203    0.222785   \n",
       "std      0.321177    0.321177    0.499926    0.499926    1.276043    0.416643   \n",
       "min      0.000000    0.000000    0.000000    0.000000   15.000000    0.000000   \n",
       "25%      1.000000    0.000000    0.000000    0.000000   16.000000    0.000000   \n",
       "50%      1.000000    0.000000    1.000000    0.000000   17.000000    0.000000   \n",
       "75%      1.000000    0.000000    1.000000    1.000000   18.000000    0.000000   \n",
       "max      1.000000    1.000000    1.000000    1.000000   22.000000    1.000000   \n",
       "\n",
       "        address_U  famsize_GT3  famsize_LE3   Pstatus_A     ...      \\\n",
       "count  395.000000   395.000000   395.000000  395.000000     ...       \n",
       "mean     0.777215     0.711392     0.288608    0.103797     ...       \n",
       "std      0.416643     0.453690     0.453690    0.305384     ...       \n",
       "min      0.000000     0.000000     0.000000    0.000000     ...       \n",
       "25%      1.000000     0.000000     0.000000    0.000000     ...       \n",
       "50%      1.000000     1.000000     0.000000    0.000000     ...       \n",
       "75%      1.000000     1.000000     1.000000    0.000000     ...       \n",
       "max      1.000000     1.000000     1.000000    1.000000     ...       \n",
       "\n",
       "           higher    internet    romantic      famrel    freetime       goout  \\\n",
       "count  395.000000  395.000000  395.000000  395.000000  395.000000  395.000000   \n",
       "mean     0.949367    0.832911    0.334177    3.944304    3.235443    3.108861   \n",
       "std      0.219525    0.373528    0.472300    0.896659    0.998862    1.113278   \n",
       "min      0.000000    0.000000    0.000000    1.000000    1.000000    1.000000   \n",
       "25%      1.000000    1.000000    0.000000    4.000000    3.000000    2.000000   \n",
       "50%      1.000000    1.000000    0.000000    4.000000    3.000000    3.000000   \n",
       "75%      1.000000    1.000000    1.000000    5.000000    4.000000    4.000000   \n",
       "max      1.000000    1.000000    1.000000    5.000000    5.000000    5.000000   \n",
       "\n",
       "             Dalc        Walc      health    absences  \n",
       "count  395.000000  395.000000  395.000000  395.000000  \n",
       "mean     1.481013    2.291139    3.554430    5.708861  \n",
       "std      0.890741    1.287897    1.390303    8.003096  \n",
       "min      1.000000    1.000000    1.000000    0.000000  \n",
       "25%      1.000000    1.000000    3.000000    0.000000  \n",
       "50%      1.000000    2.000000    4.000000    4.000000  \n",
       "75%      2.000000    3.000000    5.000000    8.000000  \n",
       "max      5.000000    5.000000    5.000000   75.000000  \n",
       "\n",
       "[8 rows x 48 columns]"
      ]
     },
     "execution_count": 92,
     "metadata": {},
     "output_type": "execute_result"
    }
   ],
   "source": [
    "X_all.describe()"
   ]
  },
  {
   "cell_type": "markdown",
   "metadata": {},
   "source": [
    "There are 395 students and 30 features in the original dataset, after splitting and preprocessing, there are 300 and 95 students in training and testing datasets respectively, all of which have 48 features. The number of students are more than that of the features, so no high dimention problem. Now the features are all numerical without any missing values. Actually the feature values are all integers, some are even binary. Besides, the data is not skewed in terms of outcome, almost 2 thirds of students passed, and the rest failed."
   ]
  },
  {
   "cell_type": "markdown",
   "metadata": {},
   "source": [
    "First, we use a **Decision Tree Model** which are commonly used in operational research, classification and regresssion for decision making.\n",
    "- Prons: It has good expressiveness, easy to understand a decision tree model and explain how each feature influences the calssifications through the nodes and branches. It is also compuationally cheap to use, missing values OK, can deal with irrelevant features. \n",
    "- Cons: for certain complex situations, i.e., if there are too many nodes to split on training data, overfitting may happen. \n",
    "\n",
    "In this case, the dataset contains many nominal features such as 'sex', 'address' and numeric features like 'age', 'absences', decison tree models can handle both types. There are not a large number of observations, just 300, which means it is easy to calculate gini or entropy for each feature and select proper nodes. Also it can work fast on prediction by just traversing the tree. Furthermore, we can explain which features are significant from the tree. "
   ]
  },
  {
   "cell_type": "code",
   "execution_count": 72,
   "metadata": {
    "collapsed": false
   },
   "outputs": [
    {
     "name": "stdout",
     "output_type": "stream",
     "text": [
      "Training DecisionTreeClassifier...\n",
      "Done!\n",
      "Training time (secs): 0.015\n"
     ]
    },
    {
     "data": {
      "text/plain": [
       "DecisionTreeClassifier(compute_importances=None, criterion='gini',\n",
       "            max_depth=None, max_features=None, max_leaf_nodes=None,\n",
       "            min_density=None, min_samples_leaf=1, min_samples_split=2,\n",
       "            random_state=1, splitter='best')"
      ]
     },
     "execution_count": 72,
     "metadata": {},
     "output_type": "execute_result"
    }
   ],
   "source": [
    "# Train a model\n",
    "import time\n",
    "\n",
    "def train_classifier(clf, X_train, y_train):\n",
    "    print \"Training {}...\".format(clf.__class__.__name__)\n",
    "    start = time.time()\n",
    "    clf.fit(X_train, y_train)\n",
    "    end = time.time()\n",
    "    print \"Done!\\nTraining time (secs): {:.3f}\".format(end - start)\n",
    "\n",
    "# TODO: Choose a model, import it and instantiate an object\n",
    "import sklearn.tree\n",
    "clf = sklearn.tree.DecisionTreeClassifier(random_state=1)#Choose a decision tree model\n",
    "\n",
    "# Fit model to training data\n",
    "train_classifier(clf, X_train, y_train)  # note: using entire training set here\n",
    "#print clf  # you can inspect the learned model by printing it\n",
    "clf"
   ]
  },
  {
   "cell_type": "code",
   "execution_count": 73,
   "metadata": {
    "collapsed": false
   },
   "outputs": [
    {
     "name": "stdout",
     "output_type": "stream",
     "text": [
      "Predicting labels using DecisionTreeClassifier...\n",
      "Done!\n",
      "Prediction time (secs): 0.000\n",
      "F1 score for training set: 1.0\n"
     ]
    }
   ],
   "source": [
    "# Predict on training set and compute F1 score\n",
    "from sklearn.metrics import f1_score\n",
    "\n",
    "def predict_labels(clf, features, target):\n",
    "    print \"Predicting labels using {}...\".format(clf.__class__.__name__)\n",
    "    start = time.time()\n",
    "    y_pred = clf.predict(features)\n",
    "    end = time.time()\n",
    "    print \"Done!\\nPrediction time (secs): {:.3f}\".format(end - start)\n",
    "    return f1_score(target.values, y_pred, pos_label='yes')\n",
    "\n",
    "train_f1_score = predict_labels(clf, X_train, y_train)\n",
    "print \"F1 score for training set: {}\".format(train_f1_score)"
   ]
  },
  {
   "cell_type": "code",
   "execution_count": 74,
   "metadata": {
    "collapsed": false
   },
   "outputs": [
    {
     "name": "stdout",
     "output_type": "stream",
     "text": [
      "Predicting labels using DecisionTreeClassifier...\n",
      "Done!\n",
      "Prediction time (secs): 0.000\n",
      "F1 score for test set: 1.0\n"
     ]
    }
   ],
   "source": [
    "# Predict on test data\n",
    "print \"F1 score for test set: {}\".format(predict_labels(clf, X_test, y_test))"
   ]
  },
  {
   "cell_type": "code",
   "execution_count": 75,
   "metadata": {
    "collapsed": false
   },
   "outputs": [
    {
     "name": "stdout",
     "output_type": "stream",
     "text": [
      "------------------------------------------\n",
      "Training set size: 100\n",
      "Training DecisionTreeClassifier...\n",
      "Done!\n",
      "Training time (secs): 0.016\n",
      "Predicting labels using DecisionTreeClassifier...\n",
      "Done!\n",
      "Prediction time (secs): 0.000\n",
      "F1 score for training set: 1.0\n",
      "Predicting labels using DecisionTreeClassifier...\n",
      "Done!\n",
      "Prediction time (secs): 0.000\n",
      "F1 score for test set: 1.0\n",
      "node_count: 39\n",
      "max_depth: 8\n",
      "max_feature: None\n",
      "------------------------------------------\n",
      "Training set size: 200\n",
      "Training DecisionTreeClassifier...\n",
      "Done!\n",
      "Training time (secs): 0.000\n",
      "Predicting labels using DecisionTreeClassifier...\n",
      "Done!\n",
      "Prediction time (secs): 0.000\n",
      "F1 score for training set: 1.0\n",
      "Predicting labels using DecisionTreeClassifier...\n",
      "Done!\n",
      "Prediction time (secs): 0.000\n",
      "F1 score for test set: 1.0\n",
      "node_count: 95\n",
      "max_depth: 12\n",
      "max_feature: None\n",
      "------------------------------------------\n",
      "Training set size: 300\n",
      "Training DecisionTreeClassifier...\n",
      "Done!\n",
      "Training time (secs): 0.016\n",
      "Predicting labels using DecisionTreeClassifier...\n",
      "Done!\n",
      "Prediction time (secs): 0.000\n",
      "F1 score for training set: 1.0\n",
      "Predicting labels using DecisionTreeClassifier...\n",
      "Done!\n",
      "Prediction time (secs): 0.000\n",
      "F1 score for test set: 1.0\n",
      "node_count: 129\n",
      "max_depth: 12\n",
      "max_feature: None\n"
     ]
    }
   ],
   "source": [
    "# Train and predict using different training set sizes\n",
    "def train_predict(clf, X_train, y_train, X_test, y_test):\n",
    "    print \"------------------------------------------\"\n",
    "    print \"Training set size: {}\".format(len(X_train))\n",
    "    train_start = time.time()\n",
    "    train_classifier(clf, X_train, y_train)\n",
    "    train_end = time.time()\n",
    "    train_time = train_end - train_start\n",
    "    train_F1 = predict_labels(clf, X_train, y_train)\n",
    "    print \"F1 score for training set: {}\".format(train_F1)\n",
    "    test_start = time.time()\n",
    "    test_F1 = predict_labels(clf, X_test, y_test)\n",
    "    print \"F1 score for test set: {}\".format(test_F1)\n",
    "    test_end = time.time()\n",
    "    test_time = test_end - test_start\n",
    "    return train_time, test_time, train_F1, test_F1\n",
    "\n",
    "# TODO: Run the helper function above for desired subsets of training data\n",
    "num_train_set = [100 ,200 ,300]\n",
    "#Create a dataframe to save training time, predicting time, training F1 score as well as testing F1 score\n",
    "time_score_table = pd.DataFrame(columns = ['model_name','train_num','train_time',\n",
    "                                           'test_time', 'train_F1', 'test_F1'])\n",
    "for i, num in enumerate(num_train_set):\n",
    "    table = train_predict(clf, X_train[:num],y_train[:num],X_test,y_test)\n",
    "    time_score_table.loc[i,'model_name'] = clf.__class__.__name__\n",
    "    time_score_table.loc[i,'train_num'] = num\n",
    "    time_score_table.loc[i,['train_time', 'test_time', 'train_F1', 'test_F1']] = table\n",
    "    #Display the complexity of trees\n",
    "    print 'node_count:',clf.tree_.node_count\n",
    "    print 'max_depth:',clf.tree_.max_depth\n",
    "    print 'max_feature:',clf.max_features\n",
    "\n",
    "# Note: Keep the test set constant"
   ]
  },
  {
   "cell_type": "code",
   "execution_count": 15,
   "metadata": {
    "collapsed": false
   },
   "outputs": [
    {
     "data": {
      "text/html": [
       "<div>\n",
       "<table border=\"1\" class=\"dataframe\">\n",
       "  <thead>\n",
       "    <tr style=\"text-align: right;\">\n",
       "      <th></th>\n",
       "      <th>model_name</th>\n",
       "      <th>train_num</th>\n",
       "      <th>train_time</th>\n",
       "      <th>test_time</th>\n",
       "      <th>train_F1</th>\n",
       "      <th>test_F1</th>\n",
       "    </tr>\n",
       "  </thead>\n",
       "  <tbody>\n",
       "    <tr>\n",
       "      <th>0</th>\n",
       "      <td>DecisionTreeClassifier</td>\n",
       "      <td>100</td>\n",
       "      <td>0.003000021</td>\n",
       "      <td>0.0009999275</td>\n",
       "      <td>1</td>\n",
       "      <td>0.7863248</td>\n",
       "    </tr>\n",
       "    <tr>\n",
       "      <th>1</th>\n",
       "      <td>DecisionTreeClassifier</td>\n",
       "      <td>200</td>\n",
       "      <td>0.001999855</td>\n",
       "      <td>0.0009999275</td>\n",
       "      <td>1</td>\n",
       "      <td>0.864</td>\n",
       "    </tr>\n",
       "    <tr>\n",
       "      <th>2</th>\n",
       "      <td>DecisionTreeClassifier</td>\n",
       "      <td>300</td>\n",
       "      <td>0.002000093</td>\n",
       "      <td>0.001000166</td>\n",
       "      <td>1</td>\n",
       "      <td>0.9180328</td>\n",
       "    </tr>\n",
       "  </tbody>\n",
       "</table>\n",
       "</div>"
      ],
      "text/plain": [
       "               model_name train_num   train_time     test_time train_F1  \\\n",
       "0  DecisionTreeClassifier       100  0.003000021  0.0009999275        1   \n",
       "1  DecisionTreeClassifier       200  0.001999855  0.0009999275        1   \n",
       "2  DecisionTreeClassifier       300  0.002000093   0.001000166        1   \n",
       "\n",
       "     test_F1  \n",
       "0  0.7863248  \n",
       "1      0.864  \n",
       "2  0.9180328  "
      ]
     },
     "execution_count": 15,
     "metadata": {},
     "output_type": "execute_result"
    }
   ],
   "source": [
    "time_score_table"
   ]
  },
  {
   "cell_type": "markdown",
   "metadata": {},
   "source": [
    "The table shows that:\n",
    "\n",
    "1. As the number of training data increases, the F1 value increases. When the number reaches 300, the F1 score of the testing dataset is over 90%.\n",
    "2. It only takes a very short time to train and predict, the training time should go up as the scale of data increases, perhaps due to random error, the time does not correspond to training scale directly.\n",
    "3. The F1 scores for the training data and testing data are over 90%, which means this model works very well without serious overfitting.\n",
    "\n",
    "Also, from the node_count, max_depth and max_feature, it seems the complexity of decision tree grows in order to fit the training data. "
   ]
  },
  {
   "cell_type": "code",
   "execution_count": 88,
   "metadata": {
    "collapsed": false
   },
   "outputs": [
    {
     "name": "stdout",
     "output_type": "stream",
     "text": [
      "[ 0.          0.          0.          0.01276552  0.0171615   0.\n",
      "  0.00574449  0.01340707  0.0238018   0.00765931  0.          0.06665105\n",
      "  0.03470113  0.01128008  0.0128719   0.          0.          0.00612745\n",
      "  0.01021242  0.          0.0122549   0.00765931  0.01404208  0.01925153\n",
      "  0.01276552  0.          0.          0.02026359  0.01735397  0.0066733\n",
      "  0.01291175  0.04025101  0.10611785  0.0388254   0.01276552  0.00903599\n",
      "  0.01531863  0.01021242  0.01148897  0.          0.03486298  0.02753761\n",
      "  0.04191571  0.09310854  0.0159569   0.03389246  0.01097227  0.15217805]\n",
      "Index([u'school_GP', u'school_MS', u'sex_F', u'sex_M', u'age', u'address_R', u'address_U', u'famsize_GT3', u'famsize_LE3', u'Pstatus_A', u'Pstatus_T', u'Medu', u'Fedu', u'Mjob_at_home', u'Mjob_health', u'Mjob_other', u'Mjob_services', u'Mjob_teacher', u'Fjob_at_home', u'Fjob_health', u'Fjob_other', u'Fjob_services', u'Fjob_teacher', u'reason_course', u'reason_home', u'reason_other', u'reason_reputation', u'guardian_father', u'guardian_mother', u'guardian_other', u'traveltime', u'studytime', u'failures', u'schoolsup', u'famsup', u'paid', u'activities', u'nursery', u'higher', u'internet', u'romantic', u'famrel', u'freetime', u'goout', u'Dalc', u'Walc', u'health', u'absences'], dtype='object')\n"
     ]
    }
   ],
   "source": [
    "print clf.feature_importances_\n",
    "print X_all.columns"
   ]
  },
  {
   "cell_type": "markdown",
   "metadata": {},
   "source": [
    "It seems 'absences', 'goout' are quite significant in terms of prediction."
   ]
  },
  {
   "cell_type": "markdown",
   "metadata": {},
   "source": [
    "As this problem is a binary classification problem, and there are no missing values here, we can consider logistic regression. Logistic regression classifier can take features and multiply each one by a weight and then add them up, and put the result into the sigmoid. Anything above 0.5 will be classified as 1, otherwise as 0.\n",
    "\n",
    "Next, we use **Logistic Regression** model which is widely used in epidemic diseases research. \n",
    "- Pros: compuatationally inexpensive, easy to implement and interpret. \n",
    "- Cons: It is prone to underfitting."
   ]
  },
  {
   "cell_type": "code",
   "execution_count": 90,
   "metadata": {
    "collapsed": false
   },
   "outputs": [
    {
     "name": "stdout",
     "output_type": "stream",
     "text": [
      "Training LogisticRegression...\n",
      "Done!\n",
      "Training time (secs): 0.032\n"
     ]
    },
    {
     "data": {
      "text/plain": [
       "LogisticRegression(C=1.0, class_weight=None, dual=False, fit_intercept=True,\n",
       "          intercept_scaling=1, penalty='l2', random_state=1, tol=0.0001)"
      ]
     },
     "execution_count": 90,
     "metadata": {},
     "output_type": "execute_result"
    }
   ],
   "source": [
    "# TODO: Train and predict using two other models\n",
    "#Choose Logistic Regression model\n",
    "from sklearn.linear_model import LogisticRegression\n",
    "clf = LogisticRegression(random_state=1)\n",
    "# Fit model to training data\n",
    "train_classifier(clf, X_train, y_train)  # note: using entire training set here\n",
    "clf"
   ]
  },
  {
   "cell_type": "code",
   "execution_count": 91,
   "metadata": {
    "collapsed": false
   },
   "outputs": [
    {
     "name": "stdout",
     "output_type": "stream",
     "text": [
      "Predicting labels using LogisticRegression...\n",
      "Done!\n",
      "Prediction time (secs): 0.000\n",
      "F1 score for training set: 0.828828828829\n",
      "Predicting labels using LogisticRegression...\n",
      "Done!\n",
      "Prediction time (secs): 0.000\n",
      "F1 score for test set: 0.833333333333\n",
      "------------------------------------------\n",
      "Training set size: 100\n",
      "Training LogisticRegression...\n",
      "Done!\n",
      "Training time (secs): 0.000\n",
      "Predicting labels using LogisticRegression...\n",
      "Done!\n",
      "Prediction time (secs): 0.000\n",
      "F1 score for training set: 0.881118881119\n",
      "Predicting labels using LogisticRegression...\n",
      "Done!\n",
      "Prediction time (secs): 0.000\n",
      "F1 score for test set: 0.884057971014\n",
      "------------------------------------------\n",
      "Training set size: 200\n",
      "Training LogisticRegression...\n",
      "Done!\n",
      "Training time (secs): 0.031\n",
      "Predicting labels using LogisticRegression...\n",
      "Done!\n",
      "Prediction time (secs): 0.000\n",
      "F1 score for training set: 0.831615120275\n",
      "Predicting labels using LogisticRegression...\n",
      "Done!\n",
      "Prediction time (secs): 0.000\n",
      "F1 score for test set: 0.836879432624\n",
      "------------------------------------------\n",
      "Training set size: 300\n",
      "Training LogisticRegression...\n",
      "Done!\n",
      "Training time (secs): 0.015\n",
      "Predicting labels using LogisticRegression...\n",
      "Done!\n",
      "Prediction time (secs): 0.016\n",
      "F1 score for training set: 0.828828828829\n",
      "Predicting labels using LogisticRegression...\n",
      "Done!\n",
      "Prediction time (secs): 0.000\n",
      "F1 score for test set: 0.833333333333\n"
     ]
    },
    {
     "data": {
      "text/html": [
       "<div style=\"max-height:1000px;max-width:1500px;overflow:auto;\">\n",
       "<table border=\"1\" class=\"dataframe\">\n",
       "  <thead>\n",
       "    <tr style=\"text-align: right;\">\n",
       "      <th></th>\n",
       "      <th>model_name</th>\n",
       "      <th>train_num</th>\n",
       "      <th>train_time</th>\n",
       "      <th>test_time</th>\n",
       "      <th>train_F1</th>\n",
       "      <th>test_F1</th>\n",
       "    </tr>\n",
       "  </thead>\n",
       "  <tbody>\n",
       "    <tr>\n",
       "      <th>0</th>\n",
       "      <td> LogisticRegression</td>\n",
       "      <td> 100</td>\n",
       "      <td>          0</td>\n",
       "      <td> 0.01600003</td>\n",
       "      <td> 0.8811189</td>\n",
       "      <td>  0.884058</td>\n",
       "    </tr>\n",
       "    <tr>\n",
       "      <th>1</th>\n",
       "      <td> LogisticRegression</td>\n",
       "      <td> 200</td>\n",
       "      <td> 0.03100014</td>\n",
       "      <td>          0</td>\n",
       "      <td> 0.8316151</td>\n",
       "      <td> 0.8368794</td>\n",
       "    </tr>\n",
       "    <tr>\n",
       "      <th>2</th>\n",
       "      <td> LogisticRegression</td>\n",
       "      <td> 300</td>\n",
       "      <td>  0.0150001</td>\n",
       "      <td>          0</td>\n",
       "      <td> 0.8288288</td>\n",
       "      <td> 0.8333333</td>\n",
       "    </tr>\n",
       "  </tbody>\n",
       "</table>\n",
       "</div>"
      ],
      "text/plain": [
       "           model_name train_num  train_time   test_time   train_F1    test_F1\n",
       "0  LogisticRegression       100           0  0.01600003  0.8811189   0.884058\n",
       "1  LogisticRegression       200  0.03100014           0  0.8316151  0.8368794\n",
       "2  LogisticRegression       300   0.0150001           0  0.8288288  0.8333333"
      ]
     },
     "execution_count": 91,
     "metadata": {},
     "output_type": "execute_result"
    }
   ],
   "source": [
    "train_f1_score = predict_labels(clf, X_train, y_train)\n",
    "print \"F1 score for training set: {}\".format(train_f1_score)\n",
    "print \"F1 score for test set: {}\".format(predict_labels(clf, X_test, y_test))\n",
    "time_score_table = pd.DataFrame(columns = ['model_name','train_num','train_time',\n",
    "                                           'test_time', 'train_F1', 'test_F1'])\n",
    "for i, num in enumerate(num_train_set):\n",
    "    table = train_predict(clf, X_train[:num],y_train[:num],X_test,y_test)\n",
    "    time_score_table.loc[i,'model_name'] = clf.__class__.__name__\n",
    "    time_score_table.loc[i,'train_num'] = num\n",
    "    time_score_table.loc[i,['train_time', 'test_time', 'train_F1', 'test_F1']] = table\n",
    "# Note: Keep the test set constant\n",
    "time_score_table"
   ]
  },
  {
   "cell_type": "markdown",
   "metadata": {},
   "source": [
    "The vairance of logistic regression is really small, it can prevent overfitting, but the F1 scores are lower that those of decision tree models. It takes less time to train the data, but the testing time does not look stable ,perhaps because of system random error."
   ]
  },
  {
   "cell_type": "markdown",
   "metadata": {},
   "source": [
    "Also, SVM performs well in binary classification problem. After feature transformation, all the features became numeric, it is possible for the model to create a hyperplane to separate the two classes efficiently.\n",
    "\n",
    "Finally, we run a **Supporting Vector Machine** model which is commonly used in pattern recognition, classification and regression.\n",
    "- Pros: perform well in classification problems, especially natively binary classification(like this case). It is easy ot interpret results in terms of hyperplane, and has low generalization error. It can also be applied to non-linear cases through different kernels. \n",
    "- Cons: It is sensitive to tuning parameters and kernel choice.\n",
    "\n"
   ]
  },
  {
   "cell_type": "code",
   "execution_count": 95,
   "metadata": {
    "collapsed": false
   },
   "outputs": [
    {
     "name": "stdout",
     "output_type": "stream",
     "text": [
      "Training SVC...\n",
      "Done!\n",
      "Training time (secs): 0.047\n"
     ]
    },
    {
     "data": {
      "text/plain": [
       "SVC(C=1.0, cache_size=200, class_weight=None, coef0=0.0, degree=3, gamma=0.0,\n",
       "  kernel='rbf', max_iter=-1, probability=False, random_state=1,\n",
       "  shrinking=True, tol=0.001, verbose=False)"
      ]
     },
     "execution_count": 95,
     "metadata": {},
     "output_type": "execute_result"
    }
   ],
   "source": [
    "#Choose Supporting vector machine model\n",
    "from sklearn import svm\n",
    "clf = svm.SVC(random_state=1)\n",
    "# Fit model to training data\n",
    "train_classifier(clf, X_train, y_train)  # note: using entire training set here\n",
    "clf"
   ]
  },
  {
   "cell_type": "code",
   "execution_count": 96,
   "metadata": {
    "collapsed": false
   },
   "outputs": [
    {
     "name": "stdout",
     "output_type": "stream",
     "text": [
      "Predicting labels using SVC...\n",
      "Done!\n",
      "Prediction time (secs): 0.016\n",
      "F1 score for training set: 0.874458874459\n",
      "Predicting labels using SVC...\n",
      "Done!\n",
      "Prediction time (secs): 0.000\n",
      "F1 score for test set: 0.891891891892\n",
      "------------------------------------------\n",
      "Training set size: 100\n",
      "Training SVC...\n",
      "Done!\n",
      "Training time (secs): 0.000\n",
      "Predicting labels using SVC...\n",
      "Done!\n",
      "Prediction time (secs): 0.016\n",
      "F1 score for training set: 0.890322580645\n",
      "Predicting labels using SVC...\n",
      "Done!\n",
      "Prediction time (secs): 0.000\n",
      "F1 score for test set: 0.905405405405\n",
      "------------------------------------------\n",
      "Training set size: 200\n",
      "Training SVC...\n",
      "Done!\n",
      "Training time (secs): 0.015\n",
      "Predicting labels using SVC...\n",
      "Done!\n",
      "Prediction time (secs): 0.000\n",
      "F1 score for training set: 0.882943143813\n",
      "Predicting labels using SVC...\n",
      "Done!\n",
      "Prediction time (secs): 0.000\n",
      "F1 score for test set: 0.910344827586\n",
      "------------------------------------------\n",
      "Training set size: 300\n",
      "Training SVC...\n",
      "Done!\n",
      "Training time (secs): 0.032\n",
      "Predicting labels using SVC...\n",
      "Done!\n",
      "Prediction time (secs): 0.031\n",
      "F1 score for training set: 0.874458874459\n",
      "Predicting labels using SVC...\n",
      "Done!\n",
      "Prediction time (secs): 0.016\n",
      "F1 score for test set: 0.891891891892\n"
     ]
    },
    {
     "data": {
      "text/html": [
       "<div style=\"max-height:1000px;max-width:1500px;overflow:auto;\">\n",
       "<table border=\"1\" class=\"dataframe\">\n",
       "  <thead>\n",
       "    <tr style=\"text-align: right;\">\n",
       "      <th></th>\n",
       "      <th>model_name</th>\n",
       "      <th>train_num</th>\n",
       "      <th>train_time</th>\n",
       "      <th>test_time</th>\n",
       "      <th>train_F1</th>\n",
       "      <th>test_F1</th>\n",
       "    </tr>\n",
       "  </thead>\n",
       "  <tbody>\n",
       "    <tr>\n",
       "      <th>0</th>\n",
       "      <td> SVC</td>\n",
       "      <td> 100</td>\n",
       "      <td>          0</td>\n",
       "      <td>          0</td>\n",
       "      <td> 0.8903226</td>\n",
       "      <td> 0.9054054</td>\n",
       "    </tr>\n",
       "    <tr>\n",
       "      <th>1</th>\n",
       "      <td> SVC</td>\n",
       "      <td> 200</td>\n",
       "      <td>  0.0150001</td>\n",
       "      <td>          0</td>\n",
       "      <td> 0.8829431</td>\n",
       "      <td> 0.9103448</td>\n",
       "    </tr>\n",
       "    <tr>\n",
       "      <th>2</th>\n",
       "      <td> SVC</td>\n",
       "      <td> 300</td>\n",
       "      <td> 0.03200006</td>\n",
       "      <td> 0.01600003</td>\n",
       "      <td> 0.8744589</td>\n",
       "      <td> 0.8918919</td>\n",
       "    </tr>\n",
       "  </tbody>\n",
       "</table>\n",
       "</div>"
      ],
      "text/plain": [
       "  model_name train_num  train_time   test_time   train_F1    test_F1\n",
       "0        SVC       100           0           0  0.8903226  0.9054054\n",
       "1        SVC       200   0.0150001           0  0.8829431  0.9103448\n",
       "2        SVC       300  0.03200006  0.01600003  0.8744589  0.8918919"
      ]
     },
     "execution_count": 96,
     "metadata": {},
     "output_type": "execute_result"
    }
   ],
   "source": [
    "train_f1_score = predict_labels(clf, X_train, y_train)\n",
    "print \"F1 score for training set: {}\".format(train_f1_score)\n",
    "print \"F1 score for test set: {}\".format(predict_labels(clf, X_test, y_test))\n",
    "time_score_table = pd.DataFrame(columns = ['model_name','train_num','train_time',\n",
    "                                           'test_time', 'train_F1', 'test_F1'])\n",
    "for i, num in enumerate(num_train_set):\n",
    "    table = train_predict(clf, X_train[:num],y_train[:num],X_test,y_test)\n",
    "    time_score_table.loc[i,'model_name'] = clf.__class__.__name__\n",
    "    time_score_table.loc[i,'train_num'] = num\n",
    "    time_score_table.loc[i,['train_time', 'test_time', 'train_F1', 'test_F1']] = table\n",
    "# Note: Keep the test set constant\n",
    "time_score_table"
   ]
  },
  {
   "cell_type": "markdown",
   "metadata": {},
   "source": [
    "The last F1 score look close to that of decision tree model, better than that in logistic regression model, and the variance is also small. But the test_F1 declines in the third test, perhaps more training data makes it difficult to find a maximal margin. And it takes more time to train and test than decision tree model. "
   ]
  },
  {
   "cell_type": "markdown",
   "metadata": {},
   "source": [
    "## 5. Choosing the Best Model\n",
    "\n",
    "- Based on the experiments you performed earlier, in 1-2 paragraphs explain to the board of supervisors what single model you chose as the best model. Which model is generally the most appropriate based on the available data, limited resources, cost, and performance?\n",
    "- In 1-2 paragraphs explain to the board of supervisors in layman's terms how the final model chosen is supposed to work (for example if you chose a Decision Tree or Support Vector Machine, how does it make a prediction).\n",
    "- Fine-tune the model. Use Gridsearch with at least one important parameter tuned and with at least 3 settings. Use the entire training set for this.\n",
    "- What is the model's final F<sub>1</sub> score?"
   ]
  },
  {
   "cell_type": "markdown",
   "metadata": {},
   "source": [
    "Based on the experiments performed above, I chose decision tree as the best model, because it had good expressiveness, relatively high F1 scores than other two models on this dataset, and it was not time-consuming as SVM did. \n",
    "\n",
    "We can imagin a decision tree model as a tree in graph, each internal node represents a \"test\" on a feature, and the 'test' result decides the direction of next step. When the trained decision tree model is applied on test data, for each student the model finds a path go through the tree from the top nodes to the down leaves according to the feature values and splitting rules. For example, the root node tests whether a student is male or female, if male go to left branch, otherwise go to the right branch. Then, we move to 'age' node which tests whether a student is over 18 or not, if so go to left branch, otherwise go to right branch. Repeat the test again and again until we reach a leaf which represents a class label, and this student is classified as this label."
   ]
  },
  {
   "cell_type": "code",
   "execution_count": 97,
   "metadata": {
    "collapsed": false
   },
   "outputs": [],
   "source": [
    "y_train_replaced = y_train.replace(['yes', 'no'], [1, 0])\n",
    "y_test_replaced = y_test.replace(['yes', 'no'], [1, 0])"
   ]
  },
  {
   "cell_type": "code",
   "execution_count": 98,
   "metadata": {
    "collapsed": false
   },
   "outputs": [
    {
     "data": {
      "text/plain": [
       "GridSearchCV(cv=None,\n",
       "       estimator=DecisionTreeClassifier(compute_importances=None, criterion='gini',\n",
       "            max_depth=None, max_features=None, max_leaf_nodes=None,\n",
       "            min_density=None, min_samples_leaf=1, min_samples_split=2,\n",
       "            random_state=1, splitter='best'),\n",
       "       fit_params={}, iid=True, loss_func=None, n_jobs=1,\n",
       "       param_grid={'max_features': (5, 10, 15, 20, 30, 40, 48)},\n",
       "       pre_dispatch='2*n_jobs', refit=True, score_func=None,\n",
       "       scoring=make_scorer(f1_score), verbose=0)"
      ]
     },
     "execution_count": 98,
     "metadata": {},
     "output_type": "execute_result"
    }
   ],
   "source": [
    "# TODO: Fine-tune your model and report the best F1 score\n",
    "clf = sklearn.tree.DecisionTreeClassifier(random_state=1)\n",
    "# Set up the parameters we wish to tune\n",
    "parameters = {'max_features':(5,10,15,20,30,40,48)}\n",
    "\n",
    "# Make an appropriate scoring function\n",
    "from sklearn.metrics import make_scorer\n",
    "scoring_function = make_scorer(f1_score,greater_is_better=True)\n",
    "\n",
    "# Make the GridSearchCV object\n",
    "from sklearn.grid_search import GridSearchCV\n",
    "reg = GridSearchCV(clf, parameters, scoring_function) \n",
    "reg.fit(X_train,y_train_replaced)"
   ]
  },
  {
   "cell_type": "code",
   "execution_count": 99,
   "metadata": {
    "collapsed": false
   },
   "outputs": [
    {
     "data": {
      "text/plain": [
       "DecisionTreeClassifier(compute_importances=None, criterion='gini',\n",
       "            max_depth=None, max_features=40, max_leaf_nodes=None,\n",
       "            min_density=None, min_samples_leaf=1, min_samples_split=2,\n",
       "            random_state=1, splitter='best')"
      ]
     },
     "execution_count": 99,
     "metadata": {},
     "output_type": "execute_result"
    }
   ],
   "source": [
    "reg.best_estimator_"
   ]
  },
  {
   "cell_type": "code",
   "execution_count": 100,
   "metadata": {
    "collapsed": false
   },
   "outputs": [],
   "source": [
    "train_F1 = f1_score(reg.predict(X_train),y_train_replaced)\n",
    "test_F1 = f1_score(reg.predict(X_test),y_test_replaced)"
   ]
  },
  {
   "cell_type": "code",
   "execution_count": 101,
   "metadata": {
    "collapsed": false
   },
   "outputs": [
    {
     "name": "stdout",
     "output_type": "stream",
     "text": [
      "1.0 1.0\n"
     ]
    }
   ],
   "source": [
    "print train_F1, test_F1"
   ]
  },
  {
   "cell_type": "markdown",
   "metadata": {
    "collapsed": true
   },
   "source": [
    "I tuned the max_features parameter which started from 5 to 48(the number of features), and at the point of 30, the model got optimized with a F1 score of 0.933, better than the untuned single model. This meaned, it was not necessary to use all the features to train the model, 30 was sufficient."
   ]
  }
 ],
 "metadata": {
  "kernelspec": {
   "display_name": "Python 2",
   "language": "python",
   "name": "python2"
  },
  "language_info": {
   "codemirror_mode": {
    "name": "ipython",
    "version": 2
   },
   "file_extension": ".py",
   "mimetype": "text/x-python",
   "name": "python",
   "nbconvert_exporter": "python",
   "pygments_lexer": "ipython2",
   "version": "2.7.9"
  }
 },
 "nbformat": 4,
 "nbformat_minor": 0
}
