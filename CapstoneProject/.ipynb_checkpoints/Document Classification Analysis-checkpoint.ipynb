{
 "cells": [
  {
   "cell_type": "markdown",
   "metadata": {},
   "source": [
    "# Definition\n",
    "This is the capstone project for Machine learning Nanodegree Program on Udacity. I run it on uBuntu 14.04LTS with Tensorflow installed.\n",
    "## Project Overview\n",
    "\n",
    "Document classification or document categorization is a problem in library science, information science as well as computer science. The task is to assgin a document to one or more classes. This may be done \"manually\" (or \"intellectually\") or algorithmically, and the documents to be classified may be texts, images, music, etc. Each kind of document possesses its special classification problems. Documents may be classified according to their subjects or according to other attributes (such as document type, author, printing year etc.). \n",
    "\n",
    "This project will focus on algorithmical methods, exactly machine learning algorithms which are widely used in information science and computer science. There are many algorithms to do classification, such as KNN, Naive Bayes, Decision Tree and etc, all of which have their advantages and disadvantages. Also there are many public text datasets online for classification, Python's NLTK package can download a lot of free texts. Here, I will apply classification algorithms on 20_newsgroup dataset from CMU Text Learning Group Data Archives, which has a collection of 20,000 messages, collected from 20 different netnews newsgroups. The news will be classified according to their contents.\n"
   ]
  },
  {
   "cell_type": "markdown",
   "metadata": {
    "collapsed": true
   },
   "source": [
    "## Problem Statement\n",
    "\n",
    "The classification of 20_newsgroup dataset is a supervised problem, each piece of news belongs to one category, the goal is to extract proper features and build an effective model to assign each piece of news to the correct category. I will explore the dataset in the beginning on the training part, then extract useful keywords and build vectors of features from the texts of news, based on those vectors I will use several classfication methods to do classification, compare the efficiency  of these classifers on the testing data and choose one as final model. Finally I will validate the performance of the classifiers on different datasets and parameters."
   ]
  },
  {
   "cell_type": "markdown",
   "metadata": {},
   "source": [
    "## Metrics\n",
    "\n",
    "As it is a multi-class classification problem with thousands of samples, I will use two metrics here:\n",
    "- accuracy: to measure how well the classification algorithms perform, namely rates of samples which are correctly assigned to corresponding categories. Ideal accuracy is 100%.\n",
    "- timing: how long it takes the algorithm to do classification, a scalable algorithm is expected to work fast because corpus usually includes thousands or more text files. "
   ]
  },
  {
   "cell_type": "markdown",
   "metadata": {},
   "source": [
    "# Analysis\n",
    "## Data Exploration\n",
    "\n",
    "The dataset can be aquired online with built-in sklearn tools. There are 20 categories of news in all, here I just choose 4 categories to do analysis, analogously, the other categories can be also handled in this way."
   ]
  },
  {
   "cell_type": "code",
   "execution_count": 8,
   "metadata": {
    "collapsed": false
   },
   "outputs": [],
   "source": [
    "import numpy as np\n",
    "import string\n",
    "import matplotlib.pyplot as pl\n",
    "from sklearn.datasets import fetch_20newsgroups\n",
    "categories = ['rec.sport.baseball', 'soc.religion.christian', 'comp.graphics', 'sci.med']\n",
    "twenty_train = fetch_20newsgroups(subset='train', \n",
    "                                  categories=categories,shuffle=True,random_state=11)\n",
    "twenty_test = fetch_20newsgroups(subset='test', \n",
    "                                  categories=categories,shuffle=True,random_state=11)"
   ]
  },
  {
   "cell_type": "code",
   "execution_count": 2,
   "metadata": {
    "collapsed": false
   },
   "outputs": [
    {
     "name": "stdout",
     "output_type": "stream",
     "text": [
      "Number of training samples: 2374\n",
      "Number of testing samples: 1580\n"
     ]
    }
   ],
   "source": [
    "print 'Number of training samples:', len(twenty_train.data)\n",
    "print 'Number of testing samples:', len(twenty_test.data)"
   ]
  },
  {
   "cell_type": "code",
   "execution_count": 3,
   "metadata": {
    "collapsed": false
   },
   "outputs": [
    {
     "data": {
      "text/plain": [
       "['comp.graphics', 'rec.sport.baseball', 'sci.med', 'soc.religion.christian']"
      ]
     },
     "execution_count": 3,
     "metadata": {},
     "output_type": "execute_result"
    }
   ],
   "source": [
    "twenty_train.target_names"
   ]
  },
  {
   "cell_type": "markdown",
   "metadata": {},
   "source": [
    "There are 2374 samples in training set, and 1580 in testing set. They belong to four categories including computer science, baseball, medical, religion. Let's look at the content of one text."
   ]
  },
  {
   "cell_type": "code",
   "execution_count": 10,
   "metadata": {
    "collapsed": false
   },
   "outputs": [
    {
     "name": "stdout",
     "output_type": "stream",
     "text": [
      "rec.sport.baseball\n"
     ]
    }
   ],
   "source": [
    "print(twenty_train.target_names[twenty_train.target[0]])"
   ]
  },
  {
   "cell_type": "code",
   "execution_count": 11,
   "metadata": {
    "collapsed": false
   },
   "outputs": [
    {
     "name": "stdout",
     "output_type": "stream",
     "text": [
      "From: lyford@dagny.webo.dg.com (Lyford Beverage)\n",
      "Subject: Re: Notes on Jays vs. Indians Series\n",
      "Distribution: na\n",
      "Organization: Data General Corporation, Research Triangle Park, NC\n",
      "Lines: 22\n",
      "\n",
      "In article <1993Apr13.202037.9485@cs.cornell.edu>, tedward@cs.cornell.edu (Edward [Ted] Fischer) writes:\n",
      "|> In article <rudyC5Fr3q.1CL@netcom.com> rudy@netcom.com (Rudy Wade) writes:\n",
      "|> >In article <C5FMxD.2pM@cs.dal.ca> niguma@ug.cs.dal.ca (Gord Niguma) writes:\n",
      "|> >>reference to history because he certainly didn't have the best season for    \n",
      "|> >>second basemen in history. He probably didn't even have as good a season as\n",
      "|> >>Alomar last year.\n",
      "|> >  \n",
      "|> >What?  Do you have some measure (like popularity in Toronto doesn't count)\n",
      "|> >that you are basing this statement on?\n",
      "|> \n",
      "|> Uh, yes.  Baerga has a lot of flash, but Alomar was the better hitter\n",
      "|> last year.\n",
      "|> \n",
      "|> BATTERS        BA   SLG   OBP   G  AB   R   H  TB 2B 3B HR RBI  BB  SO SB CS  E\n",
      "|> BAERGA,C     .312  .455  .354 161 657  92 205 299 32  1 20 105  35  76 10  2 19\n",
      "|> ALOMAR,R     .310  .427  .405 152 571 105 177 244 27  8  8  76  87  52 49  9  5\n",
      "|> \n",
      "\n",
      "This is fascinating.  You say that Alomar was the better hitter last \n",
      "year, and immediately follow that up with numbers showing that Baerga\n",
      "had a better year.  The only category that I see which shows an advantage\n",
      "for Alomar is OBP.\n",
      "\n"
     ]
    }
   ],
   "source": [
    "print(\"\\n\".join(twenty_train.data[0].split(\"\\n\")))"
   ]
  },
  {
   "cell_type": "markdown",
   "metadata": {},
   "source": [
    "It looks like an email, there are a subject, an organization, an email address and a main body, the subject and content can contain some useful words in terms of classification, for example, this article mentioned 'basemen', 'hitter', terms often refer to baseball. Aside from these, there are many signs such as punctuations in the content, which may be redundant for classification."
   ]
  },
  {
   "cell_type": "markdown",
   "metadata": {},
   "source": [
    "## Exploratory Visualization"
   ]
  },
  {
   "cell_type": "markdown",
   "metadata": {},
   "source": [
    "Here we'll check some statistical characteristics of the corpus through barplots, histograms and etc."
   ]
  },
  {
   "cell_type": "code",
   "execution_count": 177,
   "metadata": {
    "collapsed": false
   },
   "outputs": [
    {
     "data": {
      "text/plain": [
       "<matplotlib.text.Text at 0x7f8d4d4a09d0>"
      ]
     },
     "execution_count": 177,
     "metadata": {},
     "output_type": "execute_result"
    },
    {
     "data": {
      "image/png": "[encoded data removed]",
      "text/plain": [
       "<matplotlib.figure.Figure at 0x7f8d4ccecd90>"
      ]
     },
     "metadata": {},
     "output_type": "display_data"
    }
   ],
   "source": [
    "%matplotlib inline\n",
    "from collections import Counter\n",
    "left = range(4)\n",
    "abbrs = ['graphics', 'baseball', 'med', 'christian']\n",
    "ctgs = [abbrs[i] for i in twenty_train.target]\n",
    "dicts = Counter(ctgs)\n",
    "labels = [i for i,j in dicts.most_common(4)]\n",
    "heights = [j for i,j in dicts.most_common(4)]\n",
    "pl.bar(left=left,height=heights,tick_label=labels,align='center')\n",
    "pl.title('Distribution of Training Data Categories ')\n",
    "pl.xlabel('Categories')\n",
    "pl.ylabel('Frequency')"
   ]
  },
  {
   "cell_type": "markdown",
   "metadata": {},
   "source": [
    "The numbers of samples of each category are quite balanced, each has almost 600 pieces of news. Therefore, it is all right to use accuracy as a metric here."
   ]
  },
  {
   "cell_type": "code",
   "execution_count": 176,
   "metadata": {
    "collapsed": false
   },
   "outputs": [
    {
     "data": {
      "text/plain": [
       "<matplotlib.text.Text at 0x7f8d4e17c390>"
      ]
     },
     "execution_count": 176,
     "metadata": {},
     "output_type": "execute_result"
    },
    {
     "data": {
      "image/png": "[encoded data removed]",
      "text/plain": [
       "<matplotlib.figure.Figure at 0x7f8d4cc9d790>"
      ]
     },
     "metadata": {},
     "output_type": "display_data"
    }
   ],
   "source": [
    "ctgs = [abbrs[i] for i in twenty_test.target]\n",
    "dicts = Counter(ctgs)\n",
    "labels = [i for i,j in dicts.most_common(4)]\n",
    "heights = [j for i,j in dicts.most_common(4)]\n",
    "pl.bar(left=left,height=heights,tick_label=labels,align='center')\n",
    "pl.title('Distribution of Testing Data Categories ')\n",
    "pl.xlabel('Categories')\n",
    "pl.ylabel('Frequency')"
   ]
  },
  {
   "cell_type": "markdown",
   "metadata": {},
   "source": [
    "The categories of testing data is also balanced. So the dataset has been splitted well."
   ]
  },
  {
   "cell_type": "code",
   "execution_count": 14,
   "metadata": {
    "collapsed": false
   },
   "outputs": [
    {
     "name": "stdout",
     "output_type": "stream",
     "text": [
      "Maximum lines: 1566\n",
      "Minimum lines: 0\n",
      "Median lines: 22.0\n",
      "Average lines: 36.1562235394\n"
     ]
    }
   ],
   "source": [
    "lines_num = list()\n",
    "#Record lines of each article\n",
    "for i in range(len(twenty_train.data)):\n",
    "    for line in twenty_train.data[i].split(\"\\n\"):\n",
    "        if line.startswith('Lines: '):\n",
    "            length = int(line.strip().split(': ')[1])\n",
    "            lines_num.append(length)\n",
    "print 'Maximum lines:', np.max(lines_num)\n",
    "print 'Minimum lines:', np.min(lines_num)\n",
    "print 'Median lines:', np.median(lines_num)\n",
    "print 'Average lines:', np.mean(lines_num)"
   ]
  },
  {
   "cell_type": "code",
   "execution_count": 185,
   "metadata": {
    "collapsed": false
   },
   "outputs": [
    {
     "data": {
      "text/plain": [
       "(0, 400)"
      ]
     },
     "execution_count": 185,
     "metadata": {},
     "output_type": "execute_result"
    },
    {
     "data": {
      "image/png": "[encoded data removed]",
      "text/plain": [
       "<matplotlib.figure.Figure at 0x7f8d4c86e650>"
      ]
     },
     "metadata": {},
     "output_type": "display_data"
    }
   ],
   "source": [
    "pl.hist(lines_num,bins=80)\n",
    "pl.title('Histogram of Lines Counts')\n",
    "pl.xlabel('Line Count')\n",
    "pl.ylabel('Frequency')\n",
    "pl.xlim([0,400])"
   ]
  },
  {
   "cell_type": "markdown",
   "metadata": {},
   "source": [
    "Most articles have less than 50 lines, the median is 22, quite short articles indeed. Note: there are some articles with 0 line, perhaps they are null. We'll remove 0 line news if there are many of them, which can not provide useful information for classification."
   ]
  },
  {
   "cell_type": "code",
   "execution_count": 17,
   "metadata": {
    "collapsed": false
   },
   "outputs": [
    {
     "name": "stdout",
     "output_type": "stream",
     "text": [
      " 0 line news: 1\n",
      "Index of 0 line news 57\n"
     ]
    }
   ],
   "source": [
    "print '0 line news:', lines_num.count(0)\n",
    "print 'Index of 0 line news', lines_num.index(0)"
   ]
  },
  {
   "cell_type": "markdown",
   "metadata": {},
   "source": [
    "Only one piece of news has 0 line, the influence is minor, and also there are only two articles have 1566 lines, very long articles, we can keep them in the corpus because they just account for a small number."
   ]
  },
  {
   "cell_type": "code",
   "execution_count": 18,
   "metadata": {
    "collapsed": false
   },
   "outputs": [
    {
     "name": "stdout",
     "output_type": "stream",
     "text": [
      "Max word counts 11002\n",
      "Min word counts 26\n",
      "Median word counts 232.0\n"
     ]
    }
   ],
   "source": [
    "from textblob import TextBlob\n",
    "words_count = []\n",
    "words = []\n",
    "for i in range(len(twenty_train.data)):\n",
    "    text = twenty_train.data[i]\n",
    "    blob = TextBlob(text)\n",
    "    tokens = blob.tokens\n",
    "    words.extend(tokens)\n",
    "    words_count.append(len(tokens))\n",
    "    \n",
    "print 'Max word counts', np.max(words_count)\n",
    "print 'Min word counts', np.min(words_count)\n",
    "print 'Median word counts', np.median(words_count)"
   ]
  },
  {
   "cell_type": "code",
   "execution_count": 184,
   "metadata": {
    "collapsed": false
   },
   "outputs": [
    {
     "data": {
      "text/plain": [
       "(0, 2000)"
      ]
     },
     "execution_count": 184,
     "metadata": {},
     "output_type": "execute_result"
    },
    {
     "data": {
      "image/png": "[encoded data removed]",
      "text/plain": [
       "<matplotlib.figure.Figure at 0x7f8d4caa6490>"
      ]
     },
     "metadata": {},
     "output_type": "display_data"
    }
   ],
   "source": [
    "pl.hist(words_count,bins=80)\n",
    "pl.title('Histogram of Words Counts')\n",
    "pl.xlabel('Word Count')\n",
    "pl.ylabel('Frequency')\n",
    "pl.xlim([0,2000])"
   ]
  },
  {
   "cell_type": "code",
   "execution_count": 191,
   "metadata": {
    "collapsed": false
   },
   "outputs": [
    {
     "data": {
      "text/plain": [
       "3"
      ]
     },
     "execution_count": 191,
     "metadata": {},
     "output_type": "execute_result"
    }
   ],
   "source": [
    "sum(np.array(words_count)<30)"
   ]
  },
  {
   "cell_type": "markdown",
   "metadata": {},
   "source": [
    "Most articles have less than 500 words, max word count is 11002, min word count is 26. Note, the header of each article accounts for over 20 words, but there are only 3 articles with less than 30 words. It is not neccessary to remove them."
   ]
  },
  {
   "cell_type": "code",
   "execution_count": 20,
   "metadata": {
    "collapsed": false
   },
   "outputs": [
    {
     "name": "stdout",
     "output_type": "stream",
     "text": [
      "Total numbers of words 671564\n"
     ]
    }
   ],
   "source": [
    "words_cleaned = []\n",
    "#Remove punctuations\n",
    "for word in words:\n",
    "    if word in ['--', '\"\"',\"''\",\"'\"]:\n",
    "        continue\n",
    "    if word not in string.punctuation:\n",
    "        words_cleaned.append(word)\n",
    "freq = Counter(words_cleaned)\n",
    "print 'Total numbers of words', len(words_cleaned)"
   ]
  },
  {
   "cell_type": "markdown",
   "metadata": {},
   "source": [
    "It is a huge number of words, and impossible to represent each article with all the words in the corpus. Besides, if we use all the words, maybe the model will not be generalized, it will not perform well on new corpus which has new words. So we need extract only a proper proportion of words as keywords. *Note, in this project, it is likely that the features(selected words) outnumber samples, so we need pay attention on this later*."
   ]
  },
  {
   "cell_type": "code",
   "execution_count": 21,
   "metadata": {
    "collapsed": false
   },
   "outputs": [
    {
     "data": {
      "text/plain": [
       "<matplotlib.text.Text at 0x7f8d4e4c6b50>"
      ]
     },
     "execution_count": 21,
     "metadata": {},
     "output_type": "execute_result"
    },
    {
     "data": {
      "image/png": "[encoded data removed]",
      "text/plain": [
       "<matplotlib.figure.Figure at 0x7f8d69d0c4d0>"
      ]
     },
     "metadata": {},
     "output_type": "display_data"
    }
   ],
   "source": [
    "labels = [ i for i, j in freq.most_common(10)]\n",
    "freqs = [ j for i, j in freq.most_common(10)]\n",
    "left = range(10)\n",
    "colors = 'rgbcmyk'\n",
    "pl.bar(left=left,height=freqs,tick_label=labels,align='center',color=colors)\n",
    "pl.title('Most Frequent words')\n",
    "pl.xlabel('Words')\n",
    "pl.ylabel('Frequency')"
   ]
  },
  {
   "cell_type": "markdown",
   "metadata": {},
   "source": [
    "It is clear that the most frequent words are stop words which are commonly seen almost in every article, but without much meaning in term of classification, they can be removed to reduce the dimension of our problem."
   ]
  },
  {
   "cell_type": "markdown",
   "metadata": {},
   "source": [
    "## Algorithms and Techniques"
   ]
  },
  {
   "cell_type": "markdown",
   "metadata": {},
   "source": [
    "In order to perform machine learning algorithms, first of all, I need extract features from the news, these features can be words, sentences or phrases or combination of them all. But here, I only consider using a vector of words to represent an article allowing for the computation scale. If a special word such as 'cancer' apear often in an article, it is likely to be classified as science related, but we can not simply use frequencies of words because most frequent words do not provide much useful information as the figure show above, i.e, you can find 'the' very often in each piece of news, but it gives nothing useful about the category. In fact, some specific words such as 'basemen', 'hitter', they can provide very useful information, and they do not appear often. Therefore,I'll use Tf-Idf algorithm to extract features. To avoid these potential discrepancies, itsuffices to divide the number of occurrences of each word in a document by the total number of words in the document: these new features are called tf for TermFrequencies.\n",
    "Another refinement on top of tf is to down scale weights for words that occur in many documents in the corpus and are\n",
    "therefore less informative than those that occur only in a smaller portion of the corpus.\n",
    "\n",
    "In this problem, it has over 2000 training samples with four categories, a multi-class classification problem with  medium scale samples, and perhaps a very large number of features. KNN is not suitable here because of computing efficiency in high dimension. I will try Naive Bayes, Decision Tree and Deep learning methods, they can work even the feature number is large:\n",
    "- Naive Bayes, Pros: only requires a small amount of training data for classification, highly scalable, used very often in text retrieval. Cons: Oversimple for certain data, it needs assumption that the value of a particular feature is independent of the value of any other feature.\n",
    "- Decision Tree, pros: easy to interpret the results, scalable. Cons: the accuracy may be not excellent, prone to overfitting.\n",
    "- Deep Learning, pros: can produce state-of-the-art results on various tasks. Cons: time consuming, requires good hardware environment.\n",
    "\n",
    "The corpus of news do not provide default parameters for NB and Decision Tree models, which need tuned if necessary. But for deep learning, the number of features can determine the size of weights of hidden layers."
   ]
  },
  {
   "cell_type": "markdown",
   "metadata": {},
   "source": [
    "## Benchmark\n",
    "\n",
    "Here we consider two factors: bias and variance.\n",
    "- Bias: the ideal model should assign each testing article to the right category, namely, the accuracy 100%. The higher accuracy is, the better the algorithm is likely to be. Here I set the accuracy threshold as 90%.\n",
    "\n",
    "- Variance: the model performance should not change on different datasets if we have trained it, try to avoid overfitting. Ideally the accuracy doesn't vary between datasets. Here I limit the accuracy difference between training and testing data is below 8%.\n",
    "\n",
    "Furthermore, the algorithms should not take too much time if we have limited hardware resources."
   ]
  },
  {
   "cell_type": "markdown",
   "metadata": {},
   "source": [
    "# Methodology\n",
    "## Data Preprocessing\n",
    "\n",
    "I do not consider the punctuations, digits and stopwords in the contents of news. I will define a function to remove punctuations, digits."
   ]
  },
  {
   "cell_type": "code",
   "execution_count": 47,
   "metadata": {
    "collapsed": true
   },
   "outputs": [],
   "source": [
    "#Preprocess the data by removing punctuations and digits\n",
    "def preProcessor(s):\n",
    "    s = s.encode('utf-8')\n",
    "    s = s.translate(None, string.punctuation)\n",
    "    s = s.translate(None, string.digits) \n",
    "    #s = s.lower()\n",
    "    return s"
   ]
  },
  {
   "cell_type": "markdown",
   "metadata": {},
   "source": [
    "Now, it's time to extract Tf-Idf vectors from original corpus, here I will use sklearn.feature_extraction package, and remove stopwords as well."
   ]
  },
  {
   "cell_type": "code",
   "execution_count": 48,
   "metadata": {
    "collapsed": false
   },
   "outputs": [
    {
     "data": {
      "text/plain": [
       "(2374, 41948)"
      ]
     },
     "execution_count": 48,
     "metadata": {},
     "output_type": "execute_result"
    }
   ],
   "source": [
    "from sklearn.feature_extraction.text import  TfidfVectorizer\n",
    "#Obtain tf-idf vector for each article\n",
    "#remove stopwords in Enlgish\n",
    "tfidfVectorizer = TfidfVectorizer(stop_words='english',preprocessor= preProcessor)\n",
    "X_train_tfidf = tfidfVectorizer.fit_transform(twenty_train.data)\n",
    "X_train_tfidf.shape"
   ]
  },
  {
   "cell_type": "markdown",
   "metadata": {},
   "source": [
    "X_train_tfidf means the TfIdf vectors for each article, and each vector consists of TfIdf values of words. There are 41948 words in all after preprocessing. Let's have a look at the words."
   ]
  },
  {
   "cell_type": "code",
   "execution_count": 49,
   "metadata": {
    "collapsed": false
   },
   "outputs": [
    {
     "data": {
      "text/plain": [
       "['AA',\n",
       " 'AAA',\n",
       " 'AAAA',\n",
       " 'AAAI',\n",
       " 'AAAIMIT',\n",
       " 'AAAmajors',\n",
       " 'AACC',\n",
       " 'AAFFFF',\n",
       " 'AAFFFFF',\n",
       " 'AATCHOO']"
      ]
     },
     "execution_count": 49,
     "metadata": {},
     "output_type": "execute_result"
    }
   ],
   "source": [
    "words = tfidfVectorizer.get_feature_names()\n",
    "words[:10]"
   ]
  },
  {
   "cell_type": "markdown",
   "metadata": {},
   "source": [
    "It seems some words are typos, which can be removed due to their small frequency."
   ]
  },
  {
   "cell_type": "code",
   "execution_count": 50,
   "metadata": {
    "collapsed": false
   },
   "outputs": [
    {
     "data": {
      "text/plain": [
       "(2374, 8554)"
      ]
     },
     "execution_count": 50,
     "metadata": {},
     "output_type": "execute_result"
    }
   ],
   "source": [
    "tfidfVectorizer = TfidfVectorizer(min_df=5, stop_words='english',preprocessor= preProcessor)\n",
    "X_train_tfidf = tfidfVectorizer.fit_transform(twenty_train.data)\n",
    "X_train_tfidf.shape"
   ]
  },
  {
   "cell_type": "code",
   "execution_count": 77,
   "metadata": {
    "collapsed": false
   },
   "outputs": [
    {
     "data": {
      "text/plain": [
       "array([[ 0.        ,  0.        ,  0.09797326,  0.        ,  0.        ,\n",
       "         0.        ,  0.        ,  0.        ,  0.        ,  0.        ,\n",
       "         0.        ,  0.        ,  0.        ,  0.        ,  0.        ,\n",
       "         0.        ,  0.        ,  0.        ,  0.        ,  0.        ,\n",
       "         0.        ,  0.        ,  0.        ,  0.        ,  0.        ,\n",
       "         0.        ,  0.        ,  0.        ,  0.        ,  0.        ,\n",
       "         0.        ,  0.        ,  0.        ,  0.        ,  0.        ,\n",
       "         0.        ,  0.        ,  0.        ,  0.        ,  0.        ,\n",
       "         0.        ,  0.        ,  0.        ,  0.        ,  0.        ,\n",
       "         0.        ,  0.        ,  0.        ,  0.        ,  0.        ,\n",
       "         0.        ,  0.        ,  0.        ,  0.        ,  0.        ,\n",
       "         0.        ,  0.        ,  0.        ,  0.        ,  0.        ,\n",
       "         0.        ,  0.        ,  0.        ,  0.        ,  0.        ,\n",
       "         0.        ,  0.        ,  0.        ,  0.        ,  0.        ,\n",
       "         0.        ,  0.        ,  0.        ,  0.        ,  0.        ,\n",
       "         0.        ,  0.        ,  0.        ,  0.        ,  0.        ,\n",
       "         0.        ,  0.        ,  0.        ,  0.        ,  0.        ,\n",
       "         0.        ,  0.38527571,  0.        ,  0.        ,  0.        ,\n",
       "         0.        ,  0.        ,  0.        ,  0.        ,  0.        ,\n",
       "         0.        ,  0.        ,  0.        ,  0.        ,  0.        ]])"
      ]
     },
     "execution_count": 77,
     "metadata": {},
     "output_type": "execute_result"
    }
   ],
   "source": [
    "X_train_tfidf[0,:100].toarray()"
   ]
  },
  {
   "cell_type": "code",
   "execution_count": 76,
   "metadata": {
    "collapsed": false
   },
   "outputs": [
    {
     "data": {
      "text/plain": [
       "scipy.sparse.csr.csr_matrix"
      ]
     },
     "execution_count": 76,
     "metadata": {},
     "output_type": "execute_result"
    }
   ],
   "source": [
    "type(X_train_tfidf)"
   ]
  },
  {
   "cell_type": "markdown",
   "metadata": {},
   "source": [
    "Actually most values are zeros in the matrix, so sklearn transformed them into sparse matrix to save space."
   ]
  },
  {
   "cell_type": "code",
   "execution_count": 51,
   "metadata": {
    "collapsed": false
   },
   "outputs": [
    {
     "data": {
      "text/plain": [
       "['AA',\n",
       " 'AAA',\n",
       " 'AB',\n",
       " 'ABOUT',\n",
       " 'ABs',\n",
       " 'ACM',\n",
       " 'AD',\n",
       " 'AI',\n",
       " 'AIDS',\n",
       " 'AIX',\n",
       " 'AIXESA',\n",
       " 'AL',\n",
       " 'ALL',\n",
       " 'ALLTIME',\n",
       " 'ALWAYS',\n",
       " 'AM',\n",
       " 'AN',\n",
       " 'AND',\n",
       " 'ANGELS',\n",
       " 'ANY']"
      ]
     },
     "execution_count": 51,
     "metadata": {},
     "output_type": "execute_result"
    }
   ],
   "source": [
    "words = tfidfVectorizer.get_feature_names()\n",
    "words[:20]"
   ]
  },
  {
   "cell_type": "markdown",
   "metadata": {},
   "source": [
    "The features of words are still far more than the training samples, but the words seems more meaningful, so I will do classification based on these words. I do not consider uppercase and lowercase here, because in certain cases, some abbreviations in uppercase have different meanings from lowercase ones."
   ]
  },
  {
   "cell_type": "code",
   "execution_count": 195,
   "metadata": {
    "collapsed": false
   },
   "outputs": [
    {
     "data": {
      "text/plain": [
       "(0, 0.015)"
      ]
     },
     "execution_count": 195,
     "metadata": {},
     "output_type": "execute_result"
    },
    {
     "data": {
      "image/png": "[encoded data removed]",
      "text/plain": [
       "<matplotlib.figure.Figure at 0x7f8d4c5901d0>"
      ]
     },
     "metadata": {},
     "output_type": "display_data"
    }
   ],
   "source": [
    "m = np.mean(X_train_tfidf.toarray(),axis=0)\n",
    "pl.hist(m,bins=50)\n",
    "pl.title('Distribution of Average TfIdf Values of Each Feature')\n",
    "pl.xlabel('Avergae TfIdf Value')\n",
    "pl.ylabel('Frequency')\n",
    "pl.xlim([0,0.015])"
   ]
  },
  {
   "cell_type": "code",
   "execution_count": 198,
   "metadata": {
    "collapsed": false
   },
   "outputs": [
    {
     "data": {
      "text/plain": [
       "(0, 0.002)"
      ]
     },
     "execution_count": 198,
     "metadata": {},
     "output_type": "execute_result"
    },
    {
     "data": {
      "image/png": "[encoded data removed]",
      "text/plain": [
       "<matplotlib.figure.Figure at 0x7f8d4c3f7b50>"
      ]
     },
     "metadata": {},
     "output_type": "display_data"
    }
   ],
   "source": [
    "v = np.var(X_train_tfidf.toarray(),axis=0)\n",
    "pl.hist(v,bins=50)\n",
    "pl.title('Distribution of Variance of TfIdf Values')\n",
    "pl.xlabel('Variance of TfIdf Value')\n",
    "pl.ylabel('Frequency')\n",
    "pl.xlim([0,0.002])"
   ]
  },
  {
   "cell_type": "markdown",
   "metadata": {},
   "source": [
    "Both the means and variances of each feature are in similiar scales, there are no very large or extremely small figures, so we do not need normalize them."
   ]
  },
  {
   "cell_type": "markdown",
   "metadata": {},
   "source": [
    "## Implementation\n",
    "\n",
    "I will use NB, Decison Tree algorithms based on sklearn package, and use deep learning method based on Tensorflow."
   ]
  },
  {
   "cell_type": "markdown",
   "metadata": {},
   "source": [
    "### Naive Bayesian"
   ]
  },
  {
   "cell_type": "code",
   "execution_count": 52,
   "metadata": {
    "collapsed": false
   },
   "outputs": [
    {
     "name": "stdout",
     "output_type": "stream",
     "text": [
      "Accuracy of Naive Bayes: 0.946\n",
      "Training and testing time (secs): 0.006\n"
     ]
    }
   ],
   "source": [
    "X_test_tfidf = tfidfVectorizer.transform(twenty_test.data)\n",
    "import time\n",
    "#Train the model\n",
    "from sklearn.naive_bayes import MultinomialNB\n",
    "start = time.time()\n",
    "clf_nb = MultinomialNB().fit(X_train_tfidf,twenty_train.target)\n",
    "#Test the model\n",
    "predicted = clf_nb.predict(X_test_tfidf)\n",
    "end = time.time()\n",
    "print 'Accuracy of Naive Bayes: {:.3f}'.format(np.mean(predicted == twenty_test.target))\n",
    "print \"Training and testing time (secs): {:.3f}\".format(end - start)"
   ]
  },
  {
   "cell_type": "markdown",
   "metadata": {},
   "source": [
    "It seems NB algorithm works pretty well, which means the assumption that each feature is independent is quite strong. Also, it is very fast, only takes 0.006s."
   ]
  },
  {
   "cell_type": "markdown",
   "metadata": {},
   "source": [
    "### Decision Tree"
   ]
  },
  {
   "cell_type": "code",
   "execution_count": 53,
   "metadata": {
    "collapsed": false
   },
   "outputs": [
    {
     "name": "stdout",
     "output_type": "stream",
     "text": [
      "Accuracy of Decision Tree: 0.737\n",
      "Training and testing time (secs): 0.578\n"
     ]
    }
   ],
   "source": [
    "from sklearn import tree\n",
    "start = time.time()\n",
    "clf_tree = tree.DecisionTreeClassifier()\n",
    "clf_tree.fit(X_train_tfidf,twenty_train.target)\n",
    "predicted = clf_tree.predict(X_test_tfidf)\n",
    "end = time.time()\n",
    "print 'Accuracy of Decision Tree: {:.3f}'.format(np.mean(predicted == twenty_test.target))\n",
    "print \"Training and testing time (secs): {:.3f}\".format(end - start)"
   ]
  },
  {
   "cell_type": "markdown",
   "metadata": {},
   "source": [
    "The accuracy is not high as NB, and it takes more time to train and test."
   ]
  },
  {
   "cell_type": "markdown",
   "metadata": {},
   "source": [
    "### Deep Learning"
   ]
  },
  {
   "cell_type": "markdown",
   "metadata": {},
   "source": [
    "Next I'll use Tensorflow to do deep learning based on 1-hidden layer neural networks."
   ]
  },
  {
   "cell_type": "code",
   "execution_count": 287,
   "metadata": {
    "collapsed": false
   },
   "outputs": [
    {
     "name": "stdout",
     "output_type": "stream",
     "text": [
      "('Training set', (2374, 8554), (2374, 4))\n",
      "('Test set', (1580, 8554), (1580, 4))\n"
     ]
    }
   ],
   "source": [
    "#Transform datasets to proper forms\n",
    "num_labels = 4\n",
    "def reformat(dataset, labels):\n",
    "  #Transform sparse matrix to array\n",
    "  dataset = dataset.toarray().astype(np.float32)\n",
    "  # Map 0 to [1.0, 0.0, 0.0 ...], 1 to [0.0, 1.0, 0.0 ...]\n",
    "  labels = (np.arange(num_labels) == labels[:,None]).astype(np.float32)\n",
    "  return dataset, labels\n",
    "train_dataset, train_labels = reformat(X_train_tfidf, twenty_train.target)\n",
    "test_dataset, test_labels = reformat(X_test_tfidf, twenty_test.target)\n",
    "print('Training set', train_dataset.shape, train_labels.shape)\n",
    "print('Test set', test_dataset.shape, test_labels.shape)"
   ]
  },
  {
   "cell_type": "code",
   "execution_count": 299,
   "metadata": {
    "collapsed": false
   },
   "outputs": [],
   "source": [
    "import tensorflow as tf\n",
    "features_num = train_dataset.shape[1]\n",
    "batch_size = 32\n",
    "hidden1_units = 512\n",
    "graph = tf.Graph()\n",
    "with graph.as_default():\n",
    "\n",
    "  # Input data. For the training data, we use a placeholder that will be fed\n",
    "  # at run time with a training minibatch.\n",
    "  tf_train_dataset = tf.placeholder(tf.float32,\n",
    "                                    shape=(batch_size, features_num))\n",
    "  tf_train_labels = tf.placeholder(tf.float32, shape=(batch_size, num_labels))\n",
    "  tf_test_dataset = tf.constant(test_dataset)\n",
    "  \n",
    "  # Variables in hidden layer.\n",
    "  weights_1 = tf.Variable(\n",
    "    tf.truncated_normal([features_num, hidden1_units]))\n",
    "  biases_1 = tf.Variable(tf.zeros([hidden1_units]))\n",
    "  \n",
    "  # Training computation.\n",
    "  logits1= tf.matmul(tf_train_dataset, weights_1) + biases_1\n",
    "  hidden1 = tf.nn.relu(logits1)\n",
    "  \n",
    "  #Variables in output layer\n",
    "  weights_2 = tf.Variable(\n",
    "    tf.truncated_normal([hidden1_units, num_labels]))\n",
    "  biases_2 = tf.Variable(tf.zeros([num_labels]))\n",
    "\n",
    "  logits2 = tf.matmul(hidden1, weights_2) + biases_2\n",
    "  loss = tf.reduce_mean(\n",
    "    tf.nn.softmax_cross_entropy_with_logits(logits2, tf_train_labels))\n",
    "  \n",
    "  # Optimizer.\n",
    "  optimizer = tf.train.GradientDescentOptimizer(0.5).minimize(loss)\n",
    "  \n",
    "  # Predictions for the training\n",
    "  train_prediction = tf.nn.softmax(logits2)\n",
    "   \n",
    "  #Predictions for the testing \n",
    "  logits1= tf.matmul(tf_test_dataset, weights_1) + biases_1\n",
    "  hidden1 = tf.nn.relu(logits1)\n",
    "  test_prediction = tf.nn.softmax(tf.matmul(hidden1, weights_2) + biases_2)"
   ]
  },
  {
   "cell_type": "code",
   "execution_count": 304,
   "metadata": {
    "collapsed": false
   },
   "outputs": [
    {
     "name": "stdout",
     "output_type": "stream",
     "text": [
      "Initialized\n",
      "Minibatch loss at step 0: 9.194366\n",
      "Minibatch accuracy: 34.4%\n",
      "Minibatch loss at step 500: 0.010467\n",
      "Minibatch accuracy: 100.0%\n",
      "Minibatch loss at step 1000: 0.002199\n",
      "Minibatch accuracy: 100.0%\n",
      "Test accuracy: 72.0%\n",
      "Training and testing time (secs): 44.312\n"
     ]
    }
   ],
   "source": [
    "num_steps = 1001\n",
    "def accuracy(predictions, labels):\n",
    "  return (100.0 * np.sum(np.argmax(predictions, 1) == np.argmax(labels, 1))\n",
    "          / predictions.shape[0])\n",
    "\n",
    "with tf.Session(graph=graph) as session:\n",
    "  start = time.time()\n",
    "  tf.initialize_all_variables().run()\n",
    "  print(\"Initialized\")\n",
    "  for step in range(num_steps):\n",
    "    # Pick an offset within the training data, which has been randomized.\n",
    "    # Note: we could use better randomization across epochs.\n",
    "    offset = (step * batch_size) % (train_labels.shape[0] - batch_size)\n",
    "    # Generate a minibatch.\n",
    "    batch_data = train_dataset[offset:(offset + batch_size), :]\n",
    "    batch_labels = train_labels[offset:(offset + batch_size), :]\n",
    "    # Prepare a dictionary telling the session where to feed the minibatch.\n",
    "    # The key of the dictionary is the placeholder node of the graph to be fed,\n",
    "    # and the value is the numpy array to feed to it.\n",
    "    feed_dict = {tf_train_dataset : batch_data, tf_train_labels : batch_labels}\n",
    "    _, l, predictions = session.run(\n",
    "      [optimizer, loss, train_prediction], feed_dict=feed_dict)\n",
    "    if (step % 500 == 0):\n",
    "      print(\"Minibatch loss at step %d: %f\" % (step, l))\n",
    "      print(\"Minibatch accuracy: %.1f%%\" % accuracy(predictions, batch_labels))\n",
    "\n",
    "  end = time.time()\n",
    "  print(\"Test accuracy: %.1f%%\" % accuracy(test_prediction.eval(), test_labels))\n",
    "  print \"Training and testing time (secs): {:.3f}\".format(end - start)"
   ]
  },
  {
   "cell_type": "markdown",
   "metadata": {},
   "source": [
    "Obviously overfitting happens in deep learning, and it really takes a long time to train and test. Perhaps we need more training samples or reduce dimension of features in deep learning."
   ]
  },
  {
   "cell_type": "markdown",
   "metadata": {},
   "source": [
    "From the calculation results, it is clear that NB model performs better than the other two both in terms of accuracy and time. Next, I will tune the parameters of NB and Decision Tree models."
   ]
  },
  {
   "cell_type": "markdown",
   "metadata": {},
   "source": [
    "## Refinement"
   ]
  },
  {
   "cell_type": "markdown",
   "metadata": {},
   "source": [
    "I'll use grid search method to tune parameters of Naive Bayes, exactly the values of alpha. Here, I consider accuracy only because I have discussed timing above."
   ]
  },
  {
   "cell_type": "code",
   "execution_count": 30,
   "metadata": {
    "collapsed": false
   },
   "outputs": [],
   "source": [
    "from sklearn.metrics import accuracy_score"
   ]
  },
  {
   "cell_type": "code",
   "execution_count": 54,
   "metadata": {
    "collapsed": false
   },
   "outputs": [
    {
     "data": {
      "text/plain": [
       "GridSearchCV(cv=None, error_score='raise',\n",
       "       estimator=MultinomialNB(alpha=1.0, class_prior=None, fit_prior=True),\n",
       "       fit_params={}, iid=True, n_jobs=1,\n",
       "       param_grid={'alpha': (0.01, 0.05, 0.1, 0.5, 0.8, 1), 'fit_prior': (True, False)},\n",
       "       pre_dispatch='2*n_jobs', refit=True,\n",
       "       scoring=make_scorer(accuracy_score), verbose=0)"
      ]
     },
     "execution_count": 54,
     "metadata": {},
     "output_type": "execute_result"
    }
   ],
   "source": [
    "# Set up the parameters we wish to tune\n",
    "parameters = {'alpha':(0.01,0.05,0.1,0.5,0.8,1)}\n",
    "\n",
    "# Make an appropriate scoring function\n",
    "from sklearn.metrics import make_scorer\n",
    "scoring_function = make_scorer(accuracy_score,greater_is_better=True)\n",
    "\n",
    "# Make the GridSearchCV object\n",
    "from sklearn.grid_search import GridSearchCV\n",
    "cls = GridSearchCV(clf_nb, parameters, scoring_function) \n",
    "cls.fit(X_train_tfidf,twenty_train.target)"
   ]
  },
  {
   "cell_type": "code",
   "execution_count": 55,
   "metadata": {
    "collapsed": false
   },
   "outputs": [
    {
     "data": {
      "text/plain": [
       "MultinomialNB(alpha=0.01, class_prior=None, fit_prior=True)"
      ]
     },
     "execution_count": 55,
     "metadata": {},
     "output_type": "execute_result"
    }
   ],
   "source": [
    "cls.best_estimator_"
   ]
  },
  {
   "cell_type": "code",
   "execution_count": 56,
   "metadata": {
    "collapsed": false
   },
   "outputs": [
    {
     "name": "stdout",
     "output_type": "stream",
     "text": [
      "Accuracy of Tuned NB: 0.957\n"
     ]
    }
   ],
   "source": [
    "predicted = cls.predict(X_test_tfidf)\n",
    "print 'Accuracy of Tuned NB: {:.3f}'.format(accuracy_score(predicted,twenty_test.target))"
   ]
  },
  {
   "cell_type": "markdown",
   "metadata": {},
   "source": [
    "When alpha = 0.01, the model has a best accuracy of 0.957 on testing data, an improvement of default one whose accuracy is 0.946. It seems that smaller alpha can lead to a better accuracy, I'll discuss it in next part.\n",
    "\n",
    "Let's try to tune parameters of Decision Tree classifier."
   ]
  },
  {
   "cell_type": "code",
   "execution_count": 57,
   "metadata": {
    "collapsed": false
   },
   "outputs": [
    {
     "data": {
      "text/plain": [
       "GridSearchCV(cv=None, error_score='raise',\n",
       "       estimator=DecisionTreeClassifier(class_weight=None, criterion='gini', max_depth=None,\n",
       "            max_features=None, max_leaf_nodes=None, min_samples_leaf=1,\n",
       "            min_samples_split=2, min_weight_fraction_leaf=0.0,\n",
       "            presort=False, random_state=None, splitter='best'),\n",
       "       fit_params={}, iid=True, n_jobs=1,\n",
       "       param_grid={'max_depth': (3, 4, 6, 8, 10)}, pre_dispatch='2*n_jobs',\n",
       "       refit=True, scoring=make_scorer(accuracy_score), verbose=0)"
      ]
     },
     "execution_count": 57,
     "metadata": {},
     "output_type": "execute_result"
    }
   ],
   "source": [
    "# Set up the parameters we wish to tune\n",
    "parameters = {'max_depth':(3,4,6,8,10)}\n",
    "\n",
    "# Make an appropriate scoring function\n",
    "from sklearn.metrics import make_scorer\n",
    "scoring_function = make_scorer(accuracy_score,greater_is_better=True)\n",
    "\n",
    "# Make the GridSearchCV object\n",
    "cls = GridSearchCV(clf_tree, parameters, scoring_function) \n",
    "cls.fit(X_train_tfidf,twenty_train.target)"
   ]
  },
  {
   "cell_type": "code",
   "execution_count": 58,
   "metadata": {
    "collapsed": false
   },
   "outputs": [
    {
     "data": {
      "text/plain": [
       "DecisionTreeClassifier(class_weight=None, criterion='gini', max_depth=10,\n",
       "            max_features=None, max_leaf_nodes=None, min_samples_leaf=1,\n",
       "            min_samples_split=2, min_weight_fraction_leaf=0.0,\n",
       "            presort=False, random_state=None, splitter='best')"
      ]
     },
     "execution_count": 58,
     "metadata": {},
     "output_type": "execute_result"
    }
   ],
   "source": [
    "cls.best_estimator_"
   ]
  },
  {
   "cell_type": "code",
   "execution_count": 59,
   "metadata": {
    "collapsed": false
   },
   "outputs": [
    {
     "name": "stdout",
     "output_type": "stream",
     "text": [
      "Accuracy of Tuned Decision Tree: 0.591\n"
     ]
    }
   ],
   "source": [
    "predicted = cls.predict(X_test_tfidf)\n",
    "print 'Accuracy of Tuned Decision Tree: {:.3f}'.format(accuracy_score(predicted,twenty_test.target))"
   ]
  },
  {
   "cell_type": "markdown",
   "metadata": {},
   "source": [
    "Overfitting happens if we tune parameters of decision tree to improve training accuracy. Therefore, I will only discuss NB model later."
   ]
  },
  {
   "cell_type": "markdown",
   "metadata": {},
   "source": [
    "# Results\n",
    "\n",
    "## Model Evaluation and Validation"
   ]
  },
  {
   "cell_type": "markdown",
   "metadata": {},
   "source": [
    "In this part, I will take a look at several models' learning and testing accuracies on various subsets of training data, to check bias and variances of the models. In addition, I'll investigate NB classifier with an increasing alpha parameter on the full training set to observe how model complexity affects learning and testing accuracies.\n",
    "All the results will be displayed by plots."
   ]
  },
  {
   "cell_type": "markdown",
   "metadata": {},
   "source": [
    "The function below calculates the performance of several models with varying sizes of training data. The learning and testing accuracies for each model are then plotted. "
   ]
  },
  {
   "cell_type": "code",
   "execution_count": 60,
   "metadata": {
    "collapsed": true
   },
   "outputs": [],
   "source": [
    "def learning_curves(X_train, y_train, X_test, y_test):\n",
    "     \n",
    "    print \"Creating learning curve graphs for alpha 0.05 0.1 0.2. . .\"\n",
    "    \n",
    "    # Create the figure window\n",
    "    fig = pl.figure(figsize=(10,8))\n",
    "\n",
    "    # We will vary the training set size so that we have 50 different sizes\n",
    "    sizes = np.rint(np.linspace(1, X_train.shape[0], 50)).astype(int)\n",
    "    train_acr = np.zeros(len(sizes))\n",
    "    test_acr = np.zeros(len(sizes))\n",
    "\n",
    "    # Create four different models based on max_depth\n",
    "    for k, alpha in enumerate([0.05,0.1,0.2,0.5]):\n",
    "        \n",
    "        for i, s in enumerate(sizes):\n",
    "            \n",
    "            # Setup a NB classifier \n",
    "            cls = MultinomialNB(alpha = alpha)\n",
    "            \n",
    "            # Fit the learner to the training data\n",
    "            cls.fit(X_train[:s], y_train[:s])\n",
    "\n",
    "            # Find the performance on the training set\n",
    "            train_acr[i] = accuracy_score(y_train[:s], cls.predict(X_train[:s]))\n",
    "            \n",
    "            # Find the performance on the testing set\n",
    "            test_acr[i] = accuracy_score(y_test, cls.predict(X_test))\n",
    "\n",
    "        # Subplot the learning curve graph\n",
    "        ax = fig.add_subplot(2, 2, k+1)\n",
    "        ax.plot(sizes, test_acr, lw = 2, label = 'Testing Accuracy')\n",
    "        ax.plot(sizes, train_acr, lw = 2, label = 'Training Accuracy')\n",
    "        ax.legend()\n",
    "        ax.set_title('alpha = %s'%(alpha))\n",
    "        ax.set_xlabel('Number of Data Points in Training Set')\n",
    "        ax.set_ylabel('Total Accuracy')\n",
    "        ax.set_xlim([0, X_train.shape[0]])\n",
    "    \n",
    "    # Visual aesthetics\n",
    "    fig.suptitle('Naive Bayes Learning Performances', fontsize=18, y=1.03)\n",
    "    fig.tight_layout()\n",
    "    fig.show()"
   ]
  },
  {
   "cell_type": "code",
   "execution_count": 61,
   "metadata": {
    "collapsed": false
   },
   "outputs": [
    {
     "name": "stdout",
     "output_type": "stream",
     "text": [
      "Creating learning curve graphs for alpha 0.05 0.1 0.2. . .\n"
     ]
    },
    {
     "data": {
      "image/png": "[encoded data removed]",
      "text/plain": [
       "<matplotlib.figure.Figure at 0x7f8d4e0c5610>"
      ]
     },
     "metadata": {},
     "output_type": "display_data"
    }
   ],
   "source": [
    "learning_curves(X_train_tfidf, twenty_train.target, X_test_tfidf, twenty_test.target)"
   ]
  },
  {
   "cell_type": "markdown",
   "metadata": {},
   "source": [
    "Those figures indicate that NB classifier works well on those datasets in terms of variance and bias. The accuracy grows as the number of samples increases initally, When the number of samples are over 500, the accuracies become quite stable. The training accuracy reaches almost 100%, and testing accuracy can reach as high as 95%. No overfitting here. The classifier is robust in terms of sample scales."
   ]
  },
  {
   "cell_type": "markdown",
   "metadata": {},
   "source": [
    "Next function calculates the performance of the model as model complexity increases. The learning and testing accuracies are then plotted.     "
   ]
  },
  {
   "cell_type": "code",
   "execution_count": 62,
   "metadata": {
    "collapsed": true
   },
   "outputs": [],
   "source": [
    "def model_complexity(X_train, y_train, X_test, y_test):\n",
    "    \n",
    "    print \"Creating a model complexity graph. . . \"\n",
    "\n",
    "    # We will vary the alpha of a NB model from 0 to 2\n",
    "    alpha = np.arange(0.01, 1,0.02)\n",
    "    train_acr = np.zeros(len(alpha))\n",
    "    test_acr = np.zeros(len(alpha))\n",
    "\n",
    "    for i, d in enumerate(alpha):\n",
    "        # Setup a Multi nomial NB classifer so that it learns with alpha d\n",
    "        cls = MultinomialNB(alpha = d)\n",
    "\n",
    "        # Fit the learner to the training data\n",
    "        cls.fit(X_train, y_train)\n",
    "\n",
    "        # Find the performance on the training set\n",
    "        train_acr[i] = accuracy_score(y_train, cls.predict(X_train))\n",
    "\n",
    "        # Find the performance on the testing set\n",
    "        test_acr[i] = accuracy_score(y_test, cls.predict(X_test))\n",
    "\n",
    "    # Plot the model complexity graph\n",
    "    pl.figure(figsize=(7, 5))\n",
    "    pl.title('Naive Bayes Classification Complexity Performance')\n",
    "    pl.plot(alpha, test_acr, lw=2, label = 'Testing Accuracy')\n",
    "    pl.plot(alpha, train_acr, lw=2, label = 'Training Accuracy')\n",
    "    pl.legend()\n",
    "    pl.xlabel('Alpha')\n",
    "    pl.ylabel('Total Accuracy')\n",
    "    pl.show()"
   ]
  },
  {
   "cell_type": "code",
   "execution_count": 63,
   "metadata": {
    "collapsed": false
   },
   "outputs": [
    {
     "name": "stdout",
     "output_type": "stream",
     "text": [
      "Creating a model complexity graph. . . \n"
     ]
    },
    {
     "data": {
      "image/png": "[encoded data removed]",
      "text/plain": [
       "<matplotlib.figure.Figure at 0x7f8d4e27c650>"
      ]
     },
     "metadata": {},
     "output_type": "display_data"
    }
   ],
   "source": [
    "model_complexity(X_train_tfidf, twenty_train.target, X_test_tfidf, twenty_test.target)"
   ]
  },
  {
   "cell_type": "markdown",
   "metadata": {},
   "source": [
    "As the alpha increases, the accuracies of training dataset and testing dataset go down slowly. Then after 0.4, the accuracies seem to be stable. The testing accuracy is around 95%, and when alpha is close to zero, it has large accuracy. The differences between training dataset and testing dataset are small, no overfitting here. \n",
    "\n",
    "Above all, NB classifier is quite robust to different training datasets and alpha. I will set alpha= 0.01 as the parameter of our final model."
   ]
  },
  {
   "cell_type": "markdown",
   "metadata": {},
   "source": [
    "## Justification"
   ]
  },
  {
   "cell_type": "markdown",
   "metadata": {},
   "source": [
    "As we have analysed above, NB performs well on the classification tasks in terms of both bias and variance. The accuracy of classification can reach 95%, and the variance is also small, that means the model generalizes well."
   ]
  },
  {
   "cell_type": "markdown",
   "metadata": {},
   "source": [
    "Furthermore, the NB model assumes independence between features, I'd like to check whether those features are independent in terms of linear relationship. Allowing for the scale of the features, we just show the descriptive statistics of the correlation coefficients."
   ]
  },
  {
   "cell_type": "code",
   "execution_count": 140,
   "metadata": {
    "collapsed": false
   },
   "outputs": [],
   "source": [
    "cor = np.cov(X_train_tfidf.toarray())"
   ]
  },
  {
   "cell_type": "code",
   "execution_count": 139,
   "metadata": {
    "collapsed": false
   },
   "outputs": [
    {
     "name": "stdout",
     "output_type": "stream",
     "text": [
      "Max Correlation Coefficient:0.00012\n",
      "Min Correlation Coefficient:-0.00000\n",
      "Median Correlation Coefficient:0.00000\n",
      "Mean Correlation Coefficient:0.00000\n"
     ]
    }
   ],
   "source": [
    "print 'Max Correlation Coefficient:{:.5f}'.format(np.max(cor))\n",
    "print 'Min Correlation Coefficient:{:.5f}'.format(np.min(cor))\n",
    "print 'Median Correlation Coefficient:{:.5f}'.format(np.median(cor))\n",
    "print 'Mean Correlation Coefficient:{:.5f}'.format(np.mean(cor))"
   ]
  },
  {
   "cell_type": "markdown",
   "metadata": {},
   "source": [
    "From the statistics above, it is true that those words are linearly independent in terms of TfIdf values."
   ]
  },
  {
   "cell_type": "markdown",
   "metadata": {},
   "source": [
    "Let's look back at our original datasets, many datasets of other categories remain left, I can use them to test my model. And I will choose datasets of another four categories to validate this model."
   ]
  },
  {
   "cell_type": "code",
   "execution_count": 64,
   "metadata": {
    "collapsed": false
   },
   "outputs": [
    {
     "name": "stdout",
     "output_type": "stream",
     "text": [
      "Accuracy of Naive Bayes: 0.966\n",
      "Training and testing time (secs): 0.006\n"
     ]
    }
   ],
   "source": [
    "categories_new= ['rec.motorcycles', 'talk.politics.misc', 'comp.windows.x', 'sci.space']\n",
    "twenty_train_new = fetch_20newsgroups(subset='train', \n",
    "                                  categories=categories_new,shuffle=True,random_state=11)\n",
    "twenty_test_new = fetch_20newsgroups(subset='test', \n",
    "                                  categories=categories_new,shuffle=True,random_state=11)\n",
    "#Vectorize the texts\n",
    "tfidfVectorizer_new = TfidfVectorizer(min_df=5, stop_words='english',preprocessor= preProcessor)\n",
    "X_train_tfidf_new = tfidfVectorizer_new.fit_transform(twenty_train_new.data)\n",
    "X_test_tfidf_new = tfidfVectorizer_new.transform(twenty_test_new.data)\n",
    "\n",
    "#Train the model\n",
    "start = time.time()\n",
    "clf_nb_new = MultinomialNB(alpha=0.01).fit(X_train_tfidf_new,twenty_train_new.target)\n",
    "#Test the model\n",
    "predicted = clf_nb_new.predict(X_test_tfidf_new)\n",
    "end = time.time()\n",
    "print 'Accuracy of Naive Bayes: {:.3f}'.format(np.mean(predicted == twenty_test_new.target))\n",
    "print \"Training and testing time (secs): {:.3f}\".format(end - start)"
   ]
  },
  {
   "cell_type": "markdown",
   "metadata": {},
   "source": [
    "The model still performs quite well. The accuracy is above 0.95 and the timing is very small. So this model can classify these articles precisely and quickly."
   ]
  },
  {
   "cell_type": "markdown",
   "metadata": {},
   "source": [
    "# Conclusion\n",
    "\n",
    "## Free-Form Visualization"
   ]
  },
  {
   "cell_type": "markdown",
   "metadata": {},
   "source": [
    "As we have thousands of features, we may wonder whether it is possible to reduce the dimension of the features, and next we'll adopt PCA on the given dataset."
   ]
  },
  {
   "cell_type": "code",
   "execution_count": 141,
   "metadata": {
    "collapsed": true
   },
   "outputs": [],
   "source": [
    "from sklearn.decomposition import PCA\n",
    "pca = PCA()\n",
    "newData = pca.fit(X_train_tfidf.toarray())"
   ]
  },
  {
   "cell_type": "code",
   "execution_count": 157,
   "metadata": {
    "collapsed": false
   },
   "outputs": [
    {
     "data": {
      "text/plain": [
       "<matplotlib.text.Text at 0x7f8d4cd2dfd0>"
      ]
     },
     "execution_count": 157,
     "metadata": {},
     "output_type": "execute_result"
    },
    {
     "data": {
      "image/png": "[encoded data removed]",
      "text/plain": [
       "<matplotlib.figure.Figure at 0x7f8d4cd19590>"
      ]
     },
     "metadata": {},
     "output_type": "display_data"
    }
   ],
   "source": [
    "x= np.arange(2000)\n",
    "pl.plot(x,np.cumsum(pca.explained_variance_ratio_[:2000]),'-o')\n",
    "pl.xlabel('Number of Components')\n",
    "pl.ylabel('Accumulation of Variance')\n",
    "pl.title('PCA Analysis')"
   ]
  },
  {
   "cell_type": "markdown",
   "metadata": {},
   "source": [
    "From the figure above, it is clear that 2000 components can contain almost all the variance of original features, and it is possible to use PCA to reduce the dimension of features if we can accept certain loss of accuracy."
   ]
  },
  {
   "cell_type": "markdown",
   "metadata": {},
   "source": [
    "In addition, I will explore how the features influence the classification results, to check certain words are related to articles of certan categories. I will try to find out some of important words for each category."
   ]
  },
  {
   "cell_type": "code",
   "execution_count": 65,
   "metadata": {
    "collapsed": false
   },
   "outputs": [
    {
     "data": {
      "text/plain": [
       "(4, 8554)"
      ]
     },
     "execution_count": 65,
     "metadata": {},
     "output_type": "execute_result"
    }
   ],
   "source": [
    "clf_nb = MultinomialNB(alpha=0.01).fit(X_train_tfidf,twenty_train.target)\n",
    "weights = np.exp(clf_nb.feature_log_prob_)\n",
    "weights.shape"
   ]
  },
  {
   "cell_type": "code",
   "execution_count": 91,
   "metadata": {
    "collapsed": false
   },
   "outputs": [],
   "source": [
    "def BarImportantWords(weights=None,words=None,selected_num=20):\n",
    "    if weights is None or words is None:\n",
    "        print 'No weights or words!'\n",
    "    else:\n",
    "        fig = pl.figure(figsize=(10,15))\n",
    "        for i in range(len(categories)):\n",
    "            important_feature_index = np.argsort(weights[i,:])[-selected_num:]\n",
    "            important_words = [words[j] for j in important_feature_index]\n",
    "            important_weights = [weights[i, j] for j in important_feature_index]\n",
    "            ax = fig.add_subplot(4, 1, i+1)\n",
    "            ax.bar(left=range(len(important_words)),height=important_weights,\n",
    "                   tick_label=important_words,align='center',color=colors)\n",
    "            ax.set_title('Barplot Of Important Words of %s'%(twenty_train.target_names[i]))\n",
    "            #ax.set_xlabel('Number of Data Points in Training Set')\n",
    "            ax.set_ylabel('Tf-Idf')\n",
    "            #ax.set_xlim([0, X_train.shape[0]])\n",
    "            \n",
    "        fig.suptitle('Barplots Of Important Words', fontsize=18, y=1.03)\n",
    "        fig.tight_layout()\n",
    "        fig.show()\n",
    "            "
   ]
  },
  {
   "cell_type": "markdown",
   "metadata": {},
   "source": [
    "Weights bars of important words in each categoriy will be displayed."
   ]
  },
  {
   "cell_type": "code",
   "execution_count": 158,
   "metadata": {
    "collapsed": false
   },
   "outputs": [
    {
     "data": {
      "image/png": "[encoded data removed]",
      "text/plain": [
       "<matplotlib.figure.Figure at 0x7f8d4cd652d0>"
      ]
     },
     "metadata": {},
     "output_type": "display_data"
    }
   ],
   "source": [
    "BarImportantWords(weights,words,selected_num=7)"
   ]
  },
  {
   "cell_type": "markdown",
   "metadata": {},
   "source": [
    "It shows that these listed important words are related to certain categories, which is coherent to the classification. For example, in the first figure, 'graphics' is very important for 'comp.graphics', and in the last figure, 'God', 'Christians', 'Jesus' point to religion. But there are also stopwords such as 'The', 'From', perhaps the default English stopwords in sklearn package are not sufficient, if neccessary we can enlarge the stopwords vocabulary."
   ]
  },
  {
   "cell_type": "markdown",
   "metadata": {},
   "source": [
    "## Reflection"
   ]
  },
  {
   "cell_type": "markdown",
   "metadata": {},
   "source": [
    "This project is to solve a multi-class document classification problem. I hdownloaded 20newsgroups datasets, analysed the characteristcs of the datasets, extracted features using TfIdf from the corpus. The features outnumbers training samples, so I applied Naive Bayes, Decision Tree and Deep learning classifier to the datasets, and found that NB performed best in terms of accuracy and timing on the testing datasets. Then I tuned parameters of NB classifier to improve the performance with grid search method. Afterwards, I analysed robustness of NB by exploring models' learning and testing accuracies on various subsets of training data, and comparing accuracies as changing values of alpha. NB classifier has balanced bias and variance, it generalized well on different datasets if the sample number is over 500, and the variance of classifier is not sensitive to alpha. In addition, I validated the classifer on other catergories of datasets, it still worked well. Finally, I listed weights and words of import features of each category, which were coherent in terms of real world meanings."
   ]
  },
  {
   "cell_type": "markdown",
   "metadata": {},
   "source": [
    "## Improvement"
   ]
  },
  {
   "cell_type": "markdown",
   "metadata": {},
   "source": [
    "In this project, I did not transform all the words into upper or lowercase, neither did I consider different forms of the same words, for example, 'Christian', 'Christians', 'christian' are the same in meaning, if I combine them into one word, I can reduce the redundance of features and improve efficiency of the model. Apart from these, I can also enlarge the stopwords vocabulary to reduce redundance. Furthermore, if I take phrases such bigrams or trigrams into consideration, i.e., 'big data', 'machine learning', it will be likely to increase the classification accuracy, but require more computing capabilities and memories."
   ]
  },
  {
   "cell_type": "markdown",
   "metadata": {},
   "source": [
    "# Reference\n",
    "\n",
    "1. Naive Bayes Classifier: https://en.wikipedia.org/wiki/Naive_Bayes_classifier\n",
    "2. Deep Learning: https://en.wikipedia.org/wiki/Deep_learning\n",
    "3. Decision Tree: https://en.wikipedia.org/wiki/Decision_tree\n",
    "4. Document Classification: https://en.wikipedia.org/wiki/Document_classification\n",
    "5. Deep Learning Class: https://cn.udacity.com/course/deep-learning--ud730\n",
    "6. scikit-learn userguide: scikit-learndevelopers, Release0.16.1."
   ]
  },
  {
   "cell_type": "code",
   "execution_count": null,
   "metadata": {
    "collapsed": true
   },
   "outputs": [],
   "source": []
  }
 ],
 "metadata": {
  "kernelspec": {
   "display_name": "Python 2",
   "language": "python",
   "name": "python2"
  },
  "language_info": {
   "codemirror_mode": {
    "name": "ipython",
    "version": 2
   },
   "file_extension": ".py",
   "mimetype": "text/x-python",
   "name": "python",
   "nbconvert_exporter": "python",
   "pygments_lexer": "ipython2",
   "version": "2.7.11"
  }
 },
 "nbformat": 4,
 "nbformat_minor": 0
}
